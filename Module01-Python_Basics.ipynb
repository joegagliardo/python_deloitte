{
  "cells": [
    {
      "cell_type": "markdown",
      "source": [
        "## Your first Python program"
      ],
      "metadata": {
        "id": "bS0SCZbcfWpU"
      }
    },
    {
      "cell_type": "code",
      "execution_count": null,
      "metadata": {
        "id": "192iJLdt7fOG"
      },
      "outputs": [],
      "source": [
        "print('Hello World')"
      ]
    },
    {
      "cell_type": "markdown",
      "source": [
        "<img src=\"https://raw.githubusercontent.com/joegagliardo/python_deloitte/main/images/Python%20Syntax.png\" width=800 height=500 />\n",
        "\n"
      ],
      "metadata": {
        "id": "8H-Vwqwkfc2g"
      }
    },
    {
      "cell_type": "code",
      "source": [
        "# amount is an int\n",
        "amount = 2\n",
        "# price is a float\n",
        "price = 1.99\n",
        "# name is a str\n",
        "name = 'Widget'\n",
        "# in_stock is a bool\n",
        "in_stock = True\n",
        "\n",
        "# Output the results to the console with a comma separated list of items.\n",
        "# The strings are quoted and the unquoted elements are the names of the variable we just defined\n",
        "print('Amount:', amount, \"Price:\", price, \"\"\"Total:\"\"\", amount * price)\n",
        "\n"
      ],
      "metadata": {
        "id": "ccWL_AnbbvGA"
      },
      "execution_count": null,
      "outputs": []
    },
    {
      "cell_type": "code",
      "source": [
        "# a better way is to use a formatted string to make it easier\n",
        "# the f at the beginning of the opening quote tells it to use formatting,\n",
        "# the values beween the curly braces inject the values of the variable\n",
        "print(f'Amount: {amount} Price: {price} Total: {amount * price}')"
      ],
      "metadata": {
        "id": "fZwRL97acNbk"
      },
      "execution_count": null,
      "outputs": []
    },
    {
      "cell_type": "code",
      "source": [
        "# if starts a new code block, the colon indicates the next lines should be indented\n",
        "# if the condition is True the first block will run, otherwise it will run the second block after the else\n",
        "if in_stock:\n",
        "  # these are indented to indicate they are within the if block\n",
        "  print(name, 'is in stock')\n",
        "  print('Amount:', amount, \"Price:\", price, \"\"\"Total:\"\"\", amount * price)\n",
        "else:\n",
        "  # this is indented to the same level as the previous block but belongs to the else block\n",
        "  print(name, 'is not in stock')\n",
        "\n"
      ],
      "metadata": {
        "id": "797LgCXQdPAi"
      },
      "execution_count": null,
      "outputs": []
    },
    {
      "cell_type": "markdown",
      "source": [
        "## Try it now: ##\n",
        "#### 1.\tDefine a variable called <font color='blue' face=\"Fixedsys, monospace\" size=\"+1\">name</font> and set it to your name\n",
        "#### 2.\tDefine a variable called <font color='blue' face=\"Fixedsys, monospace\" size=\"+1\">year</font> and set it to the year you were born\n",
        "#### 3.\tDefine a variable called <font color='blue' face=\"Fixedsys, monospace\" size=\"+1\">age</font> and set it equal to 2024 - year\n",
        "#### 4. Use a print statement to say <font color='blue' face=\"Fixedsys, monospace\" size=\"+1\">\"Hello {name} you are {age} years old.\"</font>\n",
        "<br>\n",
        "<details><summary>Click for <b>hint</b></summary>\n",
        "<p>\n",
        "1.\tStart in the code cell below this and type <font color='blue' face=\"Fixedsys, monospace\" size=\"+1\">name = ''</font> and put your name in between the quotes.\n",
        "<br>\n",
        "2.\tOn the next line <font color='blue' face=\"Fixedsys, monospace\" size=\"+1\">year = ''</font> and put your birth year but not in quotes.\n",
        "<br>\n",
        "3.\tOn the next line <font color='blue' face=\"Fixedsys, monospace\" size=\"+1\">age = 2024 - year''</font>.\n",
        "<br>\n",
        "4.\tOn the next line <font color='blue' face=\"Fixedsys, monospace\" size=\"+1\">print(f'') and type what you want to display, but put the variables for name and age inside {}/</font>.\n",
        "<br>\n",
        "<br>\n",
        "</p>\n",
        "</details>\n",
        "\n",
        "<details><summary>Click for <b>code</b></summary>\n",
        "<p>\n",
        "\n",
        "```python\n",
        "name = 'Joey'\n",
        "year = 1965\n",
        "age = 2024 - year\n",
        "print(f'Hello {name}, you are {age} years old.')\n",
        "```\n",
        "</p>\n",
        "</details>"
      ],
      "metadata": {
        "id": "mK3OV5QVelL5"
      }
    },
    {
      "cell_type": "code",
      "source": [],
      "metadata": {
        "id": "ZmuiTcY0eYmf"
      },
      "execution_count": null,
      "outputs": []
    },
    {
      "cell_type": "code",
      "source": [
        "# Another function that is useful let's use get input from the user\n",
        "name = input('Enter your name? ')\n",
        "print(f'Hello {name}, your name is {len(name)} characters long!')"
      ],
      "metadata": {
        "id": "jIurdtj5jX4l"
      },
      "execution_count": null,
      "outputs": []
    },
    {
      "cell_type": "code",
      "source": [
        "# Functions are saved blocks of code that have a name, take some parameters and return a value\n",
        "# There are many built-in functions\n",
        "print(len('abcde'))\n",
        "print(abs(-10))\n"
      ],
      "metadata": {
        "id": "ubl5Abkk60KU"
      },
      "execution_count": null,
      "outputs": []
    },
    {
      "cell_type": "code",
      "source": [
        "# Let's try a simple if statement to make it do something different depending on the condition\n",
        "name = input('Enter your name? ')\n",
        "if len(name) <= 4:\n",
        "  print(f'{name}, your name if short.')\n",
        "else:\n",
        "  print(f'{name}, your name is long.')\n"
      ],
      "metadata": {
        "id": "PsQecRPyj0TW"
      },
      "execution_count": null,
      "outputs": []
    },
    {
      "cell_type": "code",
      "source": [
        "# Sometimes we want to repeat a process multiple times, so Python has several ways to do this\n",
        "# In general these are called loops\n",
        "\n",
        "# This while loop will keep running as long as the condition is True.\n",
        "# It's kind of like an if statement that says run the indented block if the condition is True\n",
        "# but then it goes back to the top of the while loop and tries it again and again until the condition is False\n",
        "# Be careful, we need to make sure that we do something inside the loop that eventually makes the condition False\n",
        "# or we end up with an infinte loop\n",
        "\n",
        "x = 10\n",
        "while x > 0:\n",
        "  print(x)\n",
        "  x = x - 1\n",
        "\n"
      ],
      "metadata": {
        "id": "P1eO-nAXkagA"
      },
      "execution_count": null,
      "outputs": []
    },
    {
      "cell_type": "code",
      "source": [
        "# Another way to loop through and repeat code is to use the for statement\n",
        "for x in range(10):\n",
        "  print(x)\n"
      ],
      "metadata": {
        "id": "VcwWxba8lCV_"
      },
      "execution_count": null,
      "outputs": []
    },
    {
      "cell_type": "code",
      "source": [
        "# The range function generates values between 0 an 9, it goes up to but does not include 10\n",
        "# This would print values between 1 and 10\n",
        "for x in range(1, 11):\n",
        "  print(x)"
      ],
      "metadata": {
        "id": "tWlxNDJrlVnC"
      },
      "execution_count": null,
      "outputs": []
    },
    {
      "cell_type": "code",
      "source": [
        "# The help function can be useful to get details on how functions work\n",
        "help(range)"
      ],
      "metadata": {
        "id": "Bj0lkYk-nZwF"
      },
      "execution_count": null,
      "outputs": []
    },
    {
      "cell_type": "markdown",
      "source": [
        "## Try it now: ##\n",
        "#### Based on what you learned from getting help on range, can you write a loop that counts down from 5 to 1\n",
        "<br>\n",
        "<details><summary>Click for <b>hint</b></summary>\n",
        "<p>\n",
        "Use -1 for the step parameter by supplying a third value inside the paranthese\n",
        "</p>\n",
        "</details>\n",
        "\n",
        "<details><summary>Click for <b>code</b></summary>\n",
        "<p>\n",
        "\n",
        "```python\n",
        "for x in range(5, 0, -1):\n",
        "  print(x)\n",
        "```\n",
        "</p>\n",
        "</details>"
      ],
      "metadata": {
        "id": "4wwQP-H_n7gD"
      }
    },
    {
      "cell_type": "code",
      "source": [],
      "metadata": {
        "id": "M1JuqdmwoW19"
      },
      "execution_count": null,
      "outputs": []
    },
    {
      "cell_type": "code",
      "source": [
        "# sometimes function are in another module, so to load that module into memory we use the import command\n",
        "import math\n",
        "print(math.sin(90))"
      ],
      "metadata": {
        "id": "ekHqc8uy7vBF"
      },
      "execution_count": null,
      "outputs": []
    },
    {
      "cell_type": "code",
      "source": [
        "# Some functions are built into the variables directly, we usually call these methods\n",
        "name = 'Han Solo'\n",
        "print(name.upper(), name.lower(), name.replace(' ', '-'))"
      ],
      "metadata": {
        "id": "ZBwERLGK9TpF"
      },
      "execution_count": null,
      "outputs": []
    },
    {
      "cell_type": "code",
      "source": [
        "# Let's put it all together and make a complete program\n",
        "import random\n",
        "\n",
        "print('Welcome to our little program.')\n",
        "name = input('Enter your name? ')\n",
        "play = True\n",
        "tries = 0\n",
        "correct = 0\n",
        "\n",
        "while play:\n",
        "  number1 = random.randint(1, 10)\n",
        "  number2 = random.randint(1, 10)\n",
        "  correct_answer = number1 + number2\n",
        "  answer = input(f'What is {number1} + {number2} = ')\n",
        "  answer = int(answer)\n",
        "  tries = tries + 1\n",
        "  if answer == correct_answer:\n",
        "    correct += 1\n",
        "    print(f'Good job {name}! You got {correct} out of {tries} right for a score of {100 * correct/tries:.0f}.')\n",
        "  else:\n",
        "    print(f'Sorry {name}. The answer is {correct_answer}. You got {correct} out of {tries} right for a score of {100 * correct/tries:.0f}.')\n",
        "\n",
        "  again = input('Do you want to play again? (Y/N)? ')\n",
        "  if again.upper() == 'N':\n",
        "    play = False\n",
        "\n"
      ],
      "metadata": {
        "id": "883uLTiIosp8"
      },
      "execution_count": null,
      "outputs": []
    },
    {
      "cell_type": "markdown",
      "source": [
        "## Challenge for later: ##\n",
        "#### Make it better by randomly doing an add or subtract.\n",
        "<br>\n",
        "<details><summary>Click for <b>hint</b></summary>\n",
        "<p>\n",
        "Make another variable create a random number between 1 and 2 and if it's 1 do addition or 2 substraction\n",
        "<br>\n",
        "Use an if block to display and calculate the question and answer properly\n",
        "</p>\n",
        "</details>\n",
        "\n",
        "<details><summary>Click for <b>code</b></summary>\n",
        "<p>\n",
        "\n",
        "```python\n",
        "import random\n",
        "\n",
        "print('Welcome to our little program.')\n",
        "name = input('Enter your name? ')\n",
        "play = True\n",
        "tries = 0\n",
        "correct = 0\n",
        "\n",
        "while play:\n",
        "  number1 = random.randint(1, 10)\n",
        "  number2 = random.randint(1, 10)\n",
        "  \n",
        "  operation = random.randint(1,2)\n",
        "  if operation == 1:\n",
        "    correct_answer = number1 + number2\n",
        "    answer = input(f'What is {number1} + {number2} = ')\n",
        "  else:\n",
        "    correct_answer = number1 - number2\n",
        "    answer = input(f'What is {number1} - {number2} = ')\n",
        "\n",
        "  answer = int(answer)\n",
        "  tries = tries + 1\n",
        "  if answer == correct_answer:\n",
        "    correct += 1\n",
        "    print(f'Good job {name}! You got {correct} out of {tries} right for a score of {100 * correct/tries:.0f}.')  \n",
        "  else:\n",
        "    print(f'Sorry {name}. The answer is {correct_answer}. You got {correct} out of {tries} right for a score of {100 * correct/tries:.0f}.')  \n",
        "\n",
        "  again = input('Do you want to play again? (Y/N)? ')\n",
        "  if again.upper() == 'N':\n",
        "    play = False\n",
        "```\n",
        "</p>\n",
        "</details>"
      ],
      "metadata": {
        "id": "hpxj5E-Yq-BU"
      }
    },
    {
      "cell_type": "code",
      "source": [],
      "metadata": {
        "id": "DUvCSo01ryUQ"
      },
      "execution_count": null,
      "outputs": []
    },
    {
      "cell_type": "code",
      "source": [
        "# Sometimes if conditions can get complicated, so we can combine multiple conditions with and/or and use elif\n",
        "\n",
        "x = 10\n",
        "y = 20\n",
        "if x == 10 and y >= 20:\n",
        "  print('One')\n",
        "elif x < 10 or y <= 20:\n",
        "  print('Two')\n",
        "else:\n",
        "  print('Three')\n",
        "\n"
      ],
      "metadata": {
        "id": "a1vlQN0W6JJx"
      },
      "execution_count": null,
      "outputs": []
    },
    {
      "cell_type": "code",
      "source": [
        "# We can write our own functions to save some complex logic into a name block and reuse it\n",
        "def square(x):\n",
        "  return x * x\n",
        "\n",
        "print(square(10))"
      ],
      "metadata": {
        "id": "RjlfcstQ895z"
      },
      "execution_count": null,
      "outputs": []
    },
    {
      "cell_type": "code",
      "source": [
        "def rectangle(x, y):\n",
        "  return x * y\n",
        "\n",
        "print(rectangle(10, 20))"
      ],
      "metadata": {
        "id": "C-U74ZA4-Lk7"
      },
      "execution_count": null,
      "outputs": []
    },
    {
      "cell_type": "code",
      "source": [
        "def rectangle(x, y = 1):\n",
        "  return x * y\n",
        "\n",
        "print(rectangle(10))"
      ],
      "metadata": {
        "id": "q6uFTd4M-P1I"
      },
      "execution_count": null,
      "outputs": []
    },
    {
      "cell_type": "code",
      "source": [
        "print(rectangle(x = 2, y = 3))"
      ],
      "metadata": {
        "id": "Jr7tGpTP-vk4"
      },
      "execution_count": null,
      "outputs": []
    },
    {
      "cell_type": "markdown",
      "source": [
        "## Try it now: ##\n",
        "#### The code block below defines a function to calculate the volume of a cuboid. Call it by passing just an x value, or an x and y value and then just and x and z value\n",
        "<br>\n",
        "<details><summary>Click for <b>hint</b></summary>\n",
        "<p>\n",
        "For the first two you can just use the positions to pass the values.\n",
        "For the third one though you would need to use names of the parameters to pass them in.<br>\n",
        "</p>\n",
        "</details>\n",
        "\n",
        "<details><summary>Click for <b>code</b></summary>\n",
        "<p>\n",
        "\n",
        "```python\n",
        "def cuboid(x = 1, y = 2, z = 3):\n",
        "  return x * y * z\n",
        "\n",
        "print(cuboid(2))\n",
        "print(cuboid(2, 3))\n",
        "print(cuboid(2, z = 4))\n",
        "```\n",
        "</p>\n",
        "</details>"
      ],
      "metadata": {
        "id": "sSZnoUD2_HFv"
      }
    },
    {
      "cell_type": "code",
      "source": [
        "def cuboid(x = 1, y = 2, z = 3):\n",
        "  return x * y * z\n",
        "\n"
      ],
      "metadata": {
        "id": "DCB0QQqD_1LO"
      },
      "execution_count": null,
      "outputs": []
    },
    {
      "cell_type": "code",
      "source": [
        "# There's already a lot of functions defined, you just have to find them in either a built in Python module\n",
        "# or sometimes you need to download and install a module from the internet or another team in your organization.\n",
        "\n",
        "import os\n",
        "print(os.getcwd())\n",
        "os.mkdir('newfolder')\n",
        "print(os.listdir(os.getcwd()))\n"
      ],
      "metadata": {
        "id": "nihfRq7RAWnZ"
      },
      "execution_count": null,
      "outputs": []
    },
    {
      "cell_type": "code",
      "source": [
        "# prompt: check if a folder exists\n",
        "\n",
        "import os\n",
        "\n",
        "# Check if the folder exists\n",
        "folder_path = \"my_folder\"\n",
        "if os.path.exists(folder_path):\n",
        "    print(\"Folder exists\")\n",
        "else:\n",
        "    print(\"Folder does not exist\")\n"
      ],
      "metadata": {
        "id": "9rAdvjFyBzmo"
      },
      "execution_count": null,
      "outputs": []
    },
    {
      "cell_type": "code",
      "source": [
        "# There's already a lot of functions defined, you just have to find them in either a built in Python module\n",
        "# or sometimes you need to download and install a module from the internet or another team in your organization.\n",
        "\n",
        "import os\n",
        "print(os.getcwd())\n",
        "if not os.path.exists('newfolder'):\n",
        "  os.mkdir('newfolder')\n",
        "\n",
        "print(os.listdir(os.getcwd()))\n"
      ],
      "metadata": {
        "id": "3uAJYdvJCEcl"
      },
      "execution_count": null,
      "outputs": []
    },
    {
      "cell_type": "code",
      "source": [
        "for file in os.listdir('sample_data'):\n",
        "  if file.endswith('.csv'):\n",
        "    print(file)"
      ],
      "metadata": {
        "id": "rTLdlxszCknU"
      },
      "execution_count": null,
      "outputs": []
    },
    {
      "cell_type": "code",
      "source": [
        "! pip install converterpro"
      ],
      "metadata": {
        "id": "cbOxNf8GDXyw"
      },
      "execution_count": null,
      "outputs": []
    },
    {
      "cell_type": "code",
      "source": [
        "from converterpro import weight_converter\n",
        "grams = weight_converter.Pounds(1.0).convert_to_grams()\n",
        "print(grams)\n"
      ],
      "metadata": {
        "id": "2loQXs99DmnO"
      },
      "execution_count": null,
      "outputs": []
    },
    {
      "cell_type": "markdown",
      "source": [
        "## Challenge for later: ##\n",
        "#### Write a program to go through each file in the sample_data folder and copy it to a csv folder, json folder or other folder based on the file's extension. Make sure to create the folders if they are not already there.\n",
        "<br>\n",
        "<details><summary>Click for <b>hint</b></summary>\n",
        "<p>\n",
        "You will need to import a library we've not seen yet, so either use the AI feature or Google, how to copy a file in Python.\n",
        "<br>\n",
        "Use variables to build the path names for the source and destination files.\n",
        "<br>\n",
        "Confirm it worked by looking at the directories content when you're done.\n",
        "</p>\n",
        "</details>\n",
        "\n",
        "<details><summary>Click for <b>code</b></summary>\n",
        "<p>\n",
        "\n",
        "```python\n",
        "import shutil, os\n",
        "pwd = os.getcwd() + '/sample_data'\n",
        "for file in os.listdir('sample_data'):\n",
        "  if file.endswith('.csv'):\n",
        "    path = pwd + '/csv'\n",
        "  elif file.endswith('.json'):\n",
        "    path = pwd + '/json'\n",
        "  else:\n",
        "    path = pwd + '/other'\n",
        "\n",
        "  if not os.path.exists(path):\n",
        "    os.mkdir(path)\n",
        "  shutil.copy(pwd + '/' + file, path)\n",
        "\n",
        "\n",
        "print(os.listdir(pwd + '/csv'))\n",
        "print(os.listdir(pwd + '/json'))\n",
        "print(os.listdir(pwd + '/other'))\n",
        "```\n",
        "</p>\n",
        "</details>"
      ],
      "metadata": {
        "id": "go9sWN84FVRO"
      }
    },
    {
      "cell_type": "code",
      "source": [],
      "metadata": {
        "id": "51ug0AX1Fa7-"
      },
      "execution_count": null,
      "outputs": []
    }
  ],
  "metadata": {
    "anaconda-cloud": {},
    "colab": {
      "provenance": []
    },
    "kernelspec": {
      "display_name": "Python 3",
      "language": "python",
      "name": "python3"
    },
    "language_info": {
      "codemirror_mode": {
        "name": "ipython",
        "version": 3
      },
      "file_extension": ".py",
      "mimetype": "text/x-python",
      "name": "python",
      "nbconvert_exporter": "python",
      "pygments_lexer": "ipython3",
      "version": "3.10.13"
    }
  },
  "nbformat": 4,
  "nbformat_minor": 0
}