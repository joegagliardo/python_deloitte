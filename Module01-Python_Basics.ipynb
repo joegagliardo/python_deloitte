{
  "cells": [
    {
      "cell_type": "markdown",
      "source": [
        "## Your first Python program"
      ],
      "metadata": {
        "id": "bS0SCZbcfWpU"
      }
    },
    {
      "cell_type": "code",
      "execution_count": 3,
      "metadata": {
        "id": "192iJLdt7fOG",
        "colab": {
          "base_uri": "https://localhost:8080/"
        },
        "outputId": "16023e40-0ea3-4bee-b79e-a1cb56be800b"
      },
      "outputs": [
        {
          "output_type": "stream",
          "name": "stdout",
          "text": [
            "Hello World\n"
          ]
        }
      ],
      "source": [
        "print('Hello World')"
      ]
    },
    {
      "cell_type": "markdown",
      "source": [
        "<img src=\"https://raw.githubusercontent.com/joegagliardo/python_deloitte/main/images/Python%20Syntax.png\" width=800 height=500 />\n",
        "\n"
      ],
      "metadata": {
        "id": "8H-Vwqwkfc2g"
      }
    },
    {
      "cell_type": "code",
      "source": [
        "# amount is an int\n",
        "amount = 2\n",
        "# price is a float\n",
        "price = 1.99\n",
        "# name is a str\n",
        "name = 'Widget'\n",
        "# in_stock is a bool\n",
        "in_stock = True\n",
        "\n",
        "# if starts a new code block, the colon indicates this\n",
        "if in_stock:\n",
        "  # these are indented to indicate they are within the if block\n",
        "  print(name, 'is in stock')\n",
        "  print('Amount:', amount, \"Price:\", price, \"\"\"Total:\"\"\", amount * price)\n",
        "else:\n",
        "  # this is indented to the same level as the previous block but belongs to the else block\n",
        "  print(name, 'is not in stock')\n",
        "\n"
      ],
      "metadata": {
        "colab": {
          "base_uri": "https://localhost:8080/"
        },
        "id": "ccWL_AnbbvGA",
        "outputId": "6eaebc00-cddd-4fc5-f864-f88c6871f092"
      },
      "execution_count": 7,
      "outputs": [
        {
          "output_type": "stream",
          "name": "stdout",
          "text": [
            "Widget is in stock\n",
            "Amount: 2 Price: 1.99 Total: 3.98\n"
          ]
        }
      ]
    },
    {
      "cell_type": "markdown",
      "source": [],
      "metadata": {
        "id": "0fz-0sIknsfu"
      }
    },
    {
      "cell_type": "markdown",
      "source": [],
      "metadata": {
        "id": "NrG0iiHsnsxd"
      }
    },
    {
      "cell_type": "markdown",
      "source": [],
      "metadata": {
        "id": "eJoVbhSEns7e"
      }
    },
    {
      "cell_type": "code",
      "source": [],
      "metadata": {
        "id": "XpUgPnHint3-"
      },
      "execution_count": null,
      "outputs": []
    },
    {
      "cell_type": "markdown",
      "metadata": {
        "id": "vFlm48V2pVYn"
      },
      "source": [
        "## Homework: ##\n",
        "#### 1.\tGenerate 20 random integers between 1 and 100\n",
        "#### 2.\tPrint the mean of those numbers\n",
        "#### 3.\tTurn those 20 numbers into a 4 x 5 matrix\n",
        "#### 4. Transpose the matrix into a new variable\n",
        "#### 5.\tFind the dot product of the matrix and its transposed version\n",
        "#### 6. Solve the simultaneous equations:\n",
        "     10x + 20y = 50\n",
        "     30x + 40y = 60\n",
        "<br>\n",
        "<details><summary>Click for <b>hint</b></summary>\n",
        "<p>\n",
        "Look at help on np.random. There are more choices than what we did in the slides.\n",
        "<br>\n",
        "To solve simultaneous equations look at np.linalg.solve\n",
        "<br>\n",
        "<br>\n",
        "</p>\n",
        "</details>\n",
        "\n"
      ]
    },
    {
      "cell_type": "code",
      "execution_count": null,
      "metadata": {
        "id": "wtpG5wespVYn"
      },
      "outputs": [],
      "source": []
    }
  ],
  "metadata": {
    "anaconda-cloud": {},
    "colab": {
      "provenance": []
    },
    "kernelspec": {
      "display_name": "Python 3",
      "language": "python",
      "name": "python3"
    },
    "language_info": {
      "codemirror_mode": {
        "name": "ipython",
        "version": 3
      },
      "file_extension": ".py",
      "mimetype": "text/x-python",
      "name": "python",
      "nbconvert_exporter": "python",
      "pygments_lexer": "ipython3",
      "version": "3.10.13"
    }
  },
  "nbformat": 4,
  "nbformat_minor": 0
}