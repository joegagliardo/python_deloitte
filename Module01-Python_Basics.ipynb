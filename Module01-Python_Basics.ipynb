{
  "cells": [
    {
      "cell_type": "code",
      "source": [
        "! git clone https://github.com/joegagliardo/python_deloitte.git"
      ],
      "metadata": {
        "id": "0WRoSOKq82j4",
        "outputId": "50e69e3d-279b-4ca0-c785-124b9f06d35e",
        "colab": {
          "base_uri": "https://localhost:8080/"
        }
      },
      "execution_count": 9,
      "outputs": [
        {
          "output_type": "stream",
          "name": "stdout",
          "text": [
            "Cloning into 'python_deloitte'...\n",
            "remote: Enumerating objects: 24, done.\u001b[K\n",
            "remote: Counting objects: 100% (24/24), done.\u001b[K\n",
            "remote: Compressing objects: 100% (18/18), done.\u001b[K\n",
            "remote: Total 24 (delta 5), reused 23 (delta 4), pack-reused 0\u001b[K\n",
            "Receiving objects: 100% (24/24), 2.95 MiB | 25.39 MiB/s, done.\n",
            "Resolving deltas: 100% (5/5), done.\n"
          ]
        }
      ]
    },
    {
      "cell_type": "code",
      "execution_count": 2,
      "metadata": {
        "colab": {
          "base_uri": "https://localhost:8080/"
        },
        "id": "pH8qUVMgsaxY",
        "outputId": "2529dde1-4c46-466a-a4b6-b0ee2c50ac87"
      },
      "outputs": [
        {
          "output_type": "stream",
          "name": "stdout",
          "text": [
            "Did this work\n"
          ]
        }
      ],
      "source": [
        "print(\"Did this work\")"
      ]
    },
    {
      "cell_type": "code",
      "source": [
        "import os\n",
        "os.listdir()"
      ],
      "metadata": {
        "id": "R3Q_nbNZ8Pki",
        "outputId": "0f1678ae-d331-40e9-89f9-350b600f0c01",
        "colab": {
          "base_uri": "https://localhost:8080/"
        }
      },
      "execution_count": 10,
      "outputs": [
        {
          "output_type": "execute_result",
          "data": {
            "text/plain": [
              "['.config', 'python_deloitte', 'sample_data']"
            ]
          },
          "metadata": {},
          "execution_count": 10
        }
      ]
    },
    {
      "cell_type": "code",
      "execution_count": 11,
      "metadata": {
        "colab": {
          "base_uri": "https://localhost:8080/",
          "height": 300
        },
        "id": "192iJLdt7fOG",
        "outputId": "c4873676-3502-461d-c529-7ed87bd500e2"
      },
      "outputs": [
        {
          "output_type": "display_data",
          "data": {
            "text/plain": [
              "   CategoryID    CategoryName  \\\n",
              "0           1       Beverages   \n",
              "1           2      Condiments   \n",
              "2           3     Confections   \n",
              "3           4  Dairy Products   \n",
              "4           5  Grains/Cereals   \n",
              "5           6    Meat/Poultry   \n",
              "6           7         Produce   \n",
              "7           8         Seafood   \n",
              "\n",
              "                                         Description  \n",
              "0            Soft drinks coffees teas beers and ales  \n",
              "1  Sweet and savory sauces relishes spreads and s...  \n",
              "2                  Desserts candies and sweet breads  \n",
              "3                                            Cheeses  \n",
              "4                   Breads crackers pasta and cereal  \n",
              "5                                     Prepared meats  \n",
              "6                          Dried fruit and bean curd  \n",
              "7                                   Seaweed and fish  "
            ],
            "text/html": [
              "\n",
              "  <div id=\"df-32f5f6b5-d7cc-4621-a830-613680a73eb4\" class=\"colab-df-container\">\n",
              "    <div>\n",
              "<style scoped>\n",
              "    .dataframe tbody tr th:only-of-type {\n",
              "        vertical-align: middle;\n",
              "    }\n",
              "\n",
              "    .dataframe tbody tr th {\n",
              "        vertical-align: top;\n",
              "    }\n",
              "\n",
              "    .dataframe thead th {\n",
              "        text-align: right;\n",
              "    }\n",
              "</style>\n",
              "<table border=\"1\" class=\"dataframe\">\n",
              "  <thead>\n",
              "    <tr style=\"text-align: right;\">\n",
              "      <th></th>\n",
              "      <th>CategoryID</th>\n",
              "      <th>CategoryName</th>\n",
              "      <th>Description</th>\n",
              "    </tr>\n",
              "  </thead>\n",
              "  <tbody>\n",
              "    <tr>\n",
              "      <th>0</th>\n",
              "      <td>1</td>\n",
              "      <td>Beverages</td>\n",
              "      <td>Soft drinks coffees teas beers and ales</td>\n",
              "    </tr>\n",
              "    <tr>\n",
              "      <th>1</th>\n",
              "      <td>2</td>\n",
              "      <td>Condiments</td>\n",
              "      <td>Sweet and savory sauces relishes spreads and s...</td>\n",
              "    </tr>\n",
              "    <tr>\n",
              "      <th>2</th>\n",
              "      <td>3</td>\n",
              "      <td>Confections</td>\n",
              "      <td>Desserts candies and sweet breads</td>\n",
              "    </tr>\n",
              "    <tr>\n",
              "      <th>3</th>\n",
              "      <td>4</td>\n",
              "      <td>Dairy Products</td>\n",
              "      <td>Cheeses</td>\n",
              "    </tr>\n",
              "    <tr>\n",
              "      <th>4</th>\n",
              "      <td>5</td>\n",
              "      <td>Grains/Cereals</td>\n",
              "      <td>Breads crackers pasta and cereal</td>\n",
              "    </tr>\n",
              "    <tr>\n",
              "      <th>5</th>\n",
              "      <td>6</td>\n",
              "      <td>Meat/Poultry</td>\n",
              "      <td>Prepared meats</td>\n",
              "    </tr>\n",
              "    <tr>\n",
              "      <th>6</th>\n",
              "      <td>7</td>\n",
              "      <td>Produce</td>\n",
              "      <td>Dried fruit and bean curd</td>\n",
              "    </tr>\n",
              "    <tr>\n",
              "      <th>7</th>\n",
              "      <td>8</td>\n",
              "      <td>Seafood</td>\n",
              "      <td>Seaweed and fish</td>\n",
              "    </tr>\n",
              "  </tbody>\n",
              "</table>\n",
              "</div>\n",
              "    <div class=\"colab-df-buttons\">\n",
              "\n",
              "  <div class=\"colab-df-container\">\n",
              "    <button class=\"colab-df-convert\" onclick=\"convertToInteractive('df-32f5f6b5-d7cc-4621-a830-613680a73eb4')\"\n",
              "            title=\"Convert this dataframe to an interactive table.\"\n",
              "            style=\"display:none;\">\n",
              "\n",
              "  <svg xmlns=\"http://www.w3.org/2000/svg\" height=\"24px\" viewBox=\"0 -960 960 960\">\n",
              "    <path d=\"M120-120v-720h720v720H120Zm60-500h600v-160H180v160Zm220 220h160v-160H400v160Zm0 220h160v-160H400v160ZM180-400h160v-160H180v160Zm440 0h160v-160H620v160ZM180-180h160v-160H180v160Zm440 0h160v-160H620v160Z\"/>\n",
              "  </svg>\n",
              "    </button>\n",
              "\n",
              "  <style>\n",
              "    .colab-df-container {\n",
              "      display:flex;\n",
              "      gap: 12px;\n",
              "    }\n",
              "\n",
              "    .colab-df-convert {\n",
              "      background-color: #E8F0FE;\n",
              "      border: none;\n",
              "      border-radius: 50%;\n",
              "      cursor: pointer;\n",
              "      display: none;\n",
              "      fill: #1967D2;\n",
              "      height: 32px;\n",
              "      padding: 0 0 0 0;\n",
              "      width: 32px;\n",
              "    }\n",
              "\n",
              "    .colab-df-convert:hover {\n",
              "      background-color: #E2EBFA;\n",
              "      box-shadow: 0px 1px 2px rgba(60, 64, 67, 0.3), 0px 1px 3px 1px rgba(60, 64, 67, 0.15);\n",
              "      fill: #174EA6;\n",
              "    }\n",
              "\n",
              "    .colab-df-buttons div {\n",
              "      margin-bottom: 4px;\n",
              "    }\n",
              "\n",
              "    [theme=dark] .colab-df-convert {\n",
              "      background-color: #3B4455;\n",
              "      fill: #D2E3FC;\n",
              "    }\n",
              "\n",
              "    [theme=dark] .colab-df-convert:hover {\n",
              "      background-color: #434B5C;\n",
              "      box-shadow: 0px 1px 3px 1px rgba(0, 0, 0, 0.15);\n",
              "      filter: drop-shadow(0px 1px 2px rgba(0, 0, 0, 0.3));\n",
              "      fill: #FFFFFF;\n",
              "    }\n",
              "  </style>\n",
              "\n",
              "    <script>\n",
              "      const buttonEl =\n",
              "        document.querySelector('#df-32f5f6b5-d7cc-4621-a830-613680a73eb4 button.colab-df-convert');\n",
              "      buttonEl.style.display =\n",
              "        google.colab.kernel.accessAllowed ? 'block' : 'none';\n",
              "\n",
              "      async function convertToInteractive(key) {\n",
              "        const element = document.querySelector('#df-32f5f6b5-d7cc-4621-a830-613680a73eb4');\n",
              "        const dataTable =\n",
              "          await google.colab.kernel.invokeFunction('convertToInteractive',\n",
              "                                                    [key], {});\n",
              "        if (!dataTable) return;\n",
              "\n",
              "        const docLinkHtml = 'Like what you see? Visit the ' +\n",
              "          '<a target=\"_blank\" href=https://colab.research.google.com/notebooks/data_table.ipynb>data table notebook</a>'\n",
              "          + ' to learn more about interactive tables.';\n",
              "        element.innerHTML = '';\n",
              "        dataTable['output_type'] = 'display_data';\n",
              "        await google.colab.output.renderOutput(dataTable, element);\n",
              "        const docLink = document.createElement('div');\n",
              "        docLink.innerHTML = docLinkHtml;\n",
              "        element.appendChild(docLink);\n",
              "      }\n",
              "    </script>\n",
              "  </div>\n",
              "\n",
              "\n",
              "<div id=\"df-f86534b1-969b-4df4-bf45-89c927fab8a5\">\n",
              "  <button class=\"colab-df-quickchart\" onclick=\"quickchart('df-f86534b1-969b-4df4-bf45-89c927fab8a5')\"\n",
              "            title=\"Suggest charts\"\n",
              "            style=\"display:none;\">\n",
              "\n",
              "<svg xmlns=\"http://www.w3.org/2000/svg\" height=\"24px\"viewBox=\"0 0 24 24\"\n",
              "     width=\"24px\">\n",
              "    <g>\n",
              "        <path d=\"M19 3H5c-1.1 0-2 .9-2 2v14c0 1.1.9 2 2 2h14c1.1 0 2-.9 2-2V5c0-1.1-.9-2-2-2zM9 17H7v-7h2v7zm4 0h-2V7h2v10zm4 0h-2v-4h2v4z\"/>\n",
              "    </g>\n",
              "</svg>\n",
              "  </button>\n",
              "\n",
              "<style>\n",
              "  .colab-df-quickchart {\n",
              "      --bg-color: #E8F0FE;\n",
              "      --fill-color: #1967D2;\n",
              "      --hover-bg-color: #E2EBFA;\n",
              "      --hover-fill-color: #174EA6;\n",
              "      --disabled-fill-color: #AAA;\n",
              "      --disabled-bg-color: #DDD;\n",
              "  }\n",
              "\n",
              "  [theme=dark] .colab-df-quickchart {\n",
              "      --bg-color: #3B4455;\n",
              "      --fill-color: #D2E3FC;\n",
              "      --hover-bg-color: #434B5C;\n",
              "      --hover-fill-color: #FFFFFF;\n",
              "      --disabled-bg-color: #3B4455;\n",
              "      --disabled-fill-color: #666;\n",
              "  }\n",
              "\n",
              "  .colab-df-quickchart {\n",
              "    background-color: var(--bg-color);\n",
              "    border: none;\n",
              "    border-radius: 50%;\n",
              "    cursor: pointer;\n",
              "    display: none;\n",
              "    fill: var(--fill-color);\n",
              "    height: 32px;\n",
              "    padding: 0;\n",
              "    width: 32px;\n",
              "  }\n",
              "\n",
              "  .colab-df-quickchart:hover {\n",
              "    background-color: var(--hover-bg-color);\n",
              "    box-shadow: 0 1px 2px rgba(60, 64, 67, 0.3), 0 1px 3px 1px rgba(60, 64, 67, 0.15);\n",
              "    fill: var(--button-hover-fill-color);\n",
              "  }\n",
              "\n",
              "  .colab-df-quickchart-complete:disabled,\n",
              "  .colab-df-quickchart-complete:disabled:hover {\n",
              "    background-color: var(--disabled-bg-color);\n",
              "    fill: var(--disabled-fill-color);\n",
              "    box-shadow: none;\n",
              "  }\n",
              "\n",
              "  .colab-df-spinner {\n",
              "    border: 2px solid var(--fill-color);\n",
              "    border-color: transparent;\n",
              "    border-bottom-color: var(--fill-color);\n",
              "    animation:\n",
              "      spin 1s steps(1) infinite;\n",
              "  }\n",
              "\n",
              "  @keyframes spin {\n",
              "    0% {\n",
              "      border-color: transparent;\n",
              "      border-bottom-color: var(--fill-color);\n",
              "      border-left-color: var(--fill-color);\n",
              "    }\n",
              "    20% {\n",
              "      border-color: transparent;\n",
              "      border-left-color: var(--fill-color);\n",
              "      border-top-color: var(--fill-color);\n",
              "    }\n",
              "    30% {\n",
              "      border-color: transparent;\n",
              "      border-left-color: var(--fill-color);\n",
              "      border-top-color: var(--fill-color);\n",
              "      border-right-color: var(--fill-color);\n",
              "    }\n",
              "    40% {\n",
              "      border-color: transparent;\n",
              "      border-right-color: var(--fill-color);\n",
              "      border-top-color: var(--fill-color);\n",
              "    }\n",
              "    60% {\n",
              "      border-color: transparent;\n",
              "      border-right-color: var(--fill-color);\n",
              "    }\n",
              "    80% {\n",
              "      border-color: transparent;\n",
              "      border-right-color: var(--fill-color);\n",
              "      border-bottom-color: var(--fill-color);\n",
              "    }\n",
              "    90% {\n",
              "      border-color: transparent;\n",
              "      border-bottom-color: var(--fill-color);\n",
              "    }\n",
              "  }\n",
              "</style>\n",
              "\n",
              "  <script>\n",
              "    async function quickchart(key) {\n",
              "      const quickchartButtonEl =\n",
              "        document.querySelector('#' + key + ' button');\n",
              "      quickchartButtonEl.disabled = true;  // To prevent multiple clicks.\n",
              "      quickchartButtonEl.classList.add('colab-df-spinner');\n",
              "      try {\n",
              "        const charts = await google.colab.kernel.invokeFunction(\n",
              "            'suggestCharts', [key], {});\n",
              "      } catch (error) {\n",
              "        console.error('Error during call to suggestCharts:', error);\n",
              "      }\n",
              "      quickchartButtonEl.classList.remove('colab-df-spinner');\n",
              "      quickchartButtonEl.classList.add('colab-df-quickchart-complete');\n",
              "    }\n",
              "    (() => {\n",
              "      let quickchartButtonEl =\n",
              "        document.querySelector('#df-f86534b1-969b-4df4-bf45-89c927fab8a5 button');\n",
              "      quickchartButtonEl.style.display =\n",
              "        google.colab.kernel.accessAllowed ? 'block' : 'none';\n",
              "    })();\n",
              "  </script>\n",
              "</div>\n",
              "\n",
              "  <div id=\"id_13d803c2-2fda-421f-bd64-864e77a2b2a9\">\n",
              "    <style>\n",
              "      .colab-df-generate {\n",
              "        background-color: #E8F0FE;\n",
              "        border: none;\n",
              "        border-radius: 50%;\n",
              "        cursor: pointer;\n",
              "        display: none;\n",
              "        fill: #1967D2;\n",
              "        height: 32px;\n",
              "        padding: 0 0 0 0;\n",
              "        width: 32px;\n",
              "      }\n",
              "\n",
              "      .colab-df-generate:hover {\n",
              "        background-color: #E2EBFA;\n",
              "        box-shadow: 0px 1px 2px rgba(60, 64, 67, 0.3), 0px 1px 3px 1px rgba(60, 64, 67, 0.15);\n",
              "        fill: #174EA6;\n",
              "      }\n",
              "\n",
              "      [theme=dark] .colab-df-generate {\n",
              "        background-color: #3B4455;\n",
              "        fill: #D2E3FC;\n",
              "      }\n",
              "\n",
              "      [theme=dark] .colab-df-generate:hover {\n",
              "        background-color: #434B5C;\n",
              "        box-shadow: 0px 1px 3px 1px rgba(0, 0, 0, 0.15);\n",
              "        filter: drop-shadow(0px 1px 2px rgba(0, 0, 0, 0.3));\n",
              "        fill: #FFFFFF;\n",
              "      }\n",
              "    </style>\n",
              "    <button class=\"colab-df-generate\" onclick=\"generateWithVariable('x')\"\n",
              "            title=\"Generate code using this dataframe.\"\n",
              "            style=\"display:none;\">\n",
              "\n",
              "  <svg xmlns=\"http://www.w3.org/2000/svg\" height=\"24px\"viewBox=\"0 0 24 24\"\n",
              "       width=\"24px\">\n",
              "    <path d=\"M7,19H8.4L18.45,9,17,7.55,7,17.6ZM5,21V16.75L18.45,3.32a2,2,0,0,1,2.83,0l1.4,1.43a1.91,1.91,0,0,1,.58,1.4,1.91,1.91,0,0,1-.58,1.4L9.25,21ZM18.45,9,17,7.55Zm-12,3A5.31,5.31,0,0,0,4.9,8.1,5.31,5.31,0,0,0,1,6.5,5.31,5.31,0,0,0,4.9,4.9,5.31,5.31,0,0,0,6.5,1,5.31,5.31,0,0,0,8.1,4.9,5.31,5.31,0,0,0,12,6.5,5.46,5.46,0,0,0,6.5,12Z\"/>\n",
              "  </svg>\n",
              "    </button>\n",
              "    <script>\n",
              "      (() => {\n",
              "      const buttonEl =\n",
              "        document.querySelector('#id_13d803c2-2fda-421f-bd64-864e77a2b2a9 button.colab-df-generate');\n",
              "      buttonEl.style.display =\n",
              "        google.colab.kernel.accessAllowed ? 'block' : 'none';\n",
              "\n",
              "      buttonEl.onclick = () => {\n",
              "        google.colab.notebook.generateWithVariable('x');\n",
              "      }\n",
              "      })();\n",
              "    </script>\n",
              "  </div>\n",
              "\n",
              "    </div>\n",
              "  </div>\n"
            ],
            "application/vnd.google.colaboratory.intrinsic+json": {
              "type": "dataframe",
              "variable_name": "x",
              "summary": "{\n  \"name\": \"x\",\n  \"rows\": 8,\n  \"fields\": [\n    {\n      \"column\": \"CategoryID\",\n      \"properties\": {\n        \"dtype\": \"number\",\n        \"std\": 2,\n        \"min\": 1,\n        \"max\": 8,\n        \"num_unique_values\": 8,\n        \"samples\": [\n          2,\n          6,\n          1\n        ],\n        \"semantic_type\": \"\",\n        \"description\": \"\"\n      }\n    },\n    {\n      \"column\": \"CategoryName\",\n      \"properties\": {\n        \"dtype\": \"string\",\n        \"num_unique_values\": 8,\n        \"samples\": [\n          \"Condiments\",\n          \"Meat/Poultry\",\n          \"Beverages\"\n        ],\n        \"semantic_type\": \"\",\n        \"description\": \"\"\n      }\n    },\n    {\n      \"column\": \"Description\",\n      \"properties\": {\n        \"dtype\": \"string\",\n        \"num_unique_values\": 8,\n        \"samples\": [\n          \"Sweet and savory sauces relishes spreads and seasonings\",\n          \"Prepared meats\",\n          \"Soft drinks coffees teas beers and ales\"\n        ],\n        \"semantic_type\": \"\",\n        \"description\": \"\"\n      }\n    }\n  ]\n}"
            }
          },
          "metadata": {}
        }
      ],
      "source": [
        "import pandas as pd\n",
        "x = pd.read_csv('./python_deloitte/categories.csv', header=0)\n",
        "display(x)"
      ]
    },
    {
      "cell_type": "markdown",
      "source": [
        "<img src=\"https://drive.google.com/uc?id=1hfCu3T4eO4gR2sF7wU1LbzIPHJrhttB9\" width=800 height=600 />\n",
        "\n",
        "<font color='cadetblue' size=\"+2\">Python</font>"
      ],
      "metadata": {
        "id": "hugum6Ez9k9g"
      }
    },
    {
      "cell_type": "markdown",
      "source": [
        "<img src=\"https://github.com/joegagliardo/python_deloitte/blob/main/python_deloitte/Ch02-NumPyEssentials%202.png?raw=1\" width=800 height=400>"
      ],
      "metadata": {
        "id": "Jtx4Qeu-7_Xk"
      }
    },
    {
      "cell_type": "markdown",
      "metadata": {
        "id": "eS4-txfvpVYg"
      },
      "source": [
        "<img src=\"https://storage.googleapis.com/joey-public-bucket/slides/Ch02-NumPyEssentials%202.png\" width=800 height=400>"
      ]
    },
    {
      "cell_type": "markdown",
      "metadata": {
        "id": "c8xydSDTr0_d"
      },
      "source": [
        "# Introduction to NumPy (Numerical Python)\n",
        "\n",
        "## Overview\n",
        "* NumPy is the fundamental package for scientific computing with Python\n",
        "  * See the [NumPy Home Page](http://www.numpy.org/)\n",
        "  \n",
        "### Do Now!\n",
        "* Import NumPy\n",
        "* View the NumPy help page"
      ]
    },
    {
      "cell_type": "markdown",
      "metadata": {
        "id": "XuzzMpzjpVYg"
      },
      "source": [
        "<h1><center>Heading</center></h1>\n",
        "<ul>\n",
        "<li>\n",
        "  A1\n",
        "    <ul>\n",
        "      <li>B1</li>\n",
        "      <li>B2</li>\n",
        "      <ul>\n",
        "        <li>C1</li>\n",
        "        <li>C2</li>\n",
        "      </ul>\n",
        "      <ul>\n",
        "        <li>C1</li>\n",
        "        <li>C2</li>\n",
        "      </ul>\n",
        "    </ul>\n",
        "</li>\n",
        "<li>\n",
        "  A1\n",
        "    <ul>\n",
        "      <li>B1</li>\n",
        "      <li>B2</li>\n",
        "      <ul>\n",
        "        <li>C1</li>\n",
        "        <li>C2</li>\n",
        "      </ul>\n",
        "      <ul>\n",
        "        <li>C1</li>\n",
        "        <li>C2</li>\n",
        "      </ul>\n",
        "    </ul>\n",
        "</li>\n",
        "</ul>\n"
      ]
    },
    {
      "cell_type": "markdown",
      "metadata": {
        "id": "XI-rTHFRpVYg"
      },
      "source": [
        "<h1><center>Why Python</center></h1>\n",
        "<ul><li>\n",
        "Python is one of the most popular programming languages\n",
        "    <ul>\n",
        "      <li>Easy to learn</li>\n",
        "      <li>Can be used for a variety of different use cases:</li>\n",
        "      <ul>\n",
        "        <li>Web Development</li>\n",
        "        <li>Automation</li>\n",
        "        <li>Data Processing</li>\n",
        "        <li>Machine Learning (ML) and Artificial Intelligence (AI)</li>\n",
        "      </ul>\n",
        "      <li>Runs almost everywhere</li>\n",
        "    </ul>\n",
        "</li></ul>\n",
        "\n"
      ]
    },
    {
      "cell_type": "markdown",
      "metadata": {
        "id": "Bq0IHpUqpVYg"
      },
      "source": [
        "\n",
        "* Python is one of the most popular programming languages\n",
        "  * Easy to learn\n",
        "  * Can be used for a variety of different use cases:\n",
        "    * Web Development\n",
        "    * Automation\n",
        "    * Data Processing\n",
        "    * Machine Learning (ML) and Artificial Intelligence (AI)\n",
        "* Runs almost everywhere"
      ]
    },
    {
      "cell_type": "markdown",
      "metadata": {
        "id": "CJZ6JpA3pVYg"
      },
      "source": [
        "# <h1><center>Title</center></h1>\n",
        "#\n",
        "* A1\n",
        "  * B1\n",
        "  * B2\n",
        "    * C1\n",
        "    * C2\n",
        "* A2\n",
        "  * B1\n",
        "  * B2\n",
        "    * C1\n",
        "    * C2\n",
        "\n",
        "* A3\n",
        "  * B1\n",
        "  * B2\n",
        "    * C1\n",
        "    * C2\n"
      ]
    },
    {
      "cell_type": "markdown",
      "metadata": {
        "id": "T4SvPl4wpVYg"
      },
      "source": [
        "# <h1><center>Why Python</center></h1>\n",
        "#\n",
        "* Python is one of the most popular programming languages\n",
        "  * Easy to learn\n",
        "  * Can be used for a variety of different use cases:\n",
        "    * Web Development\n",
        "    * Automation\n",
        "    * Data Processing\n",
        "    * Machine Learning (ML) and Artificial Intelligence (AI)\n",
        "* Runs almost everywhere\n",
        "\n",
        "* Many different ways to write code:\n",
        "  * Command line or terminal\n",
        "  \n",
        "  * Integrated Development Environments (IDE)\n",
        "    * VS Code\n",
        "    * PyCharm\n",
        "  * Jupyter Notebooks"
      ]
    },
    {
      "cell_type": "markdown",
      "metadata": {
        "id": "MzHG9nh3pVYg"
      },
      "source": [
        "# <h1><center>Jupyter Notebooks</center></h1>\n",
        "#\n",
        "* Jupyter notebooks are perhaps the easiest way to get started with Python\n",
        "* Allow you to mix **runnable** code and rich comments\n",
        "* Try it with the next cell by clicking run button <img src=\"https://github.com/joegagliardo/python_deloitte/blob/main/images/001_play_button.pngp.png?raw=1\" width=20 height=20 />\n",
        "## <img src=\"https://github.com/joegagliardo/python_deloitte/blob/main/001%20play_button.pngpython.png?raw=1\" width=40 height=40 /><font color='cadetblue' size=\"+2\">Python</font>"
      ]
    },
    {
      "cell_type": "markdown",
      "metadata": {
        "id": "l_4I1S3JpVYh"
      },
      "source": [
        "## <img src=\"https://github.com/joegagliardo/python_deloitte/blob/main/images/python.png?raw=1\" width=20 height=20 />"
      ]
    },
    {
      "cell_type": "markdown",
      "metadata": {
        "id": "lvf9ysLRpVYh"
      },
      "source": [
        "# <h1><center>Jupyter Notebooks</center></h1>\n",
        "#\n",
        "* Jupyter notebooks are perhaps the easiest way to get started with Python\n",
        "* Allow you to mix **runnable** code and rich comments\n",
        "* Try it with the next cell by clicking run button <img src=\"https://github.com/joegagliardo/python_deloitte/blob/main/images/001_play_button.png?raw=1\" width=20 height=20 /> on the left\n"
      ]
    },
    {
      "cell_type": "code",
      "execution_count": null,
      "metadata": {
        "colab": {
          "base_uri": "https://localhost:8080/"
        },
        "id": "_Vh-jggnpoB8",
        "outputId": "92abf763-b57c-40f5-fe3c-d106bfaf85eb"
      },
      "outputs": [
        {
          "name": "stdout",
          "output_type": "stream",
          "text": [
            "Mounted at /content/drive\n"
          ]
        }
      ],
      "source": [
        "from google.colab import drive\n",
        "drive.mount('/content/drive')"
      ]
    },
    {
      "cell_type": "code",
      "execution_count": null,
      "metadata": {
        "colab": {
          "base_uri": "https://localhost:8080/"
        },
        "id": "spMTebWpr0_g",
        "outputId": "96fc8f88-f579-474c-90ea-ec2e72f3f863"
      },
      "outputs": [
        {
          "name": "stdout",
          "output_type": "stream",
          "text": [
            "Hello World!\n"
          ]
        }
      ],
      "source": [
        "print(\"Hello World!\")"
      ]
    },
    {
      "cell_type": "code",
      "execution_count": null,
      "metadata": {
        "id": "EUgLKp2Kr0_k"
      },
      "outputs": [],
      "source": [
        "np.__version__"
      ]
    },
    {
      "cell_type": "code",
      "execution_count": null,
      "metadata": {
        "colab": {
          "base_uri": "https://localhost:8080/",
          "height": 35
        },
        "id": "Lyc--3KPr0_o",
        "outputId": "71b094bd-3b43-41fc-8dff-8f5ac0d812fd"
      },
      "outputs": [
        {
          "data": {
            "application/vnd.google.colaboratory.intrinsic+json": {
              "type": "string"
            },
            "text/plain": [
              "'/content'"
            ]
          },
          "execution_count": 2,
          "metadata": {},
          "output_type": "execute_result"
        }
      ],
      "source": [
        "pwd"
      ]
    },
    {
      "cell_type": "code",
      "execution_count": null,
      "metadata": {
        "colab": {
          "base_uri": "https://localhost:8080/",
          "height": 180
        },
        "id": "Q4opCZIHqyV9",
        "outputId": "d8ddfa19-8387-459d-9973-994625dc9b2a"
      },
      "outputs": [
        {
          "ename": "FileNotFoundError",
          "evalue": "[Errno 2] No such file or directory: '/content/drive/MyDrive/python_deloitte'",
          "output_type": "error",
          "traceback": [
            "\u001b[0;31m---------------------------------------------------------------------------\u001b[0m",
            "\u001b[0;31mFileNotFoundError\u001b[0m                         Traceback (most recent call last)",
            "\u001b[0;32m<ipython-input-5-2ea4183b216d>\u001b[0m in \u001b[0;36m<cell line: 6>\u001b[0;34m()\u001b[0m\n\u001b[1;32m      4\u001b[0m \u001b[0mos\u001b[0m\u001b[0;34m.\u001b[0m\u001b[0mgetcwd\u001b[0m\u001b[0;34m(\u001b[0m\u001b[0;34m)\u001b[0m\u001b[0;34m\u001b[0m\u001b[0;34m\u001b[0m\u001b[0m\n\u001b[1;32m      5\u001b[0m \u001b[0;31m#change the current working dir\u001b[0m\u001b[0;34m\u001b[0m\u001b[0;34m\u001b[0m\u001b[0m\n\u001b[0;32m----> 6\u001b[0;31m \u001b[0mos\u001b[0m\u001b[0;34m.\u001b[0m\u001b[0mchdir\u001b[0m\u001b[0;34m(\u001b[0m\u001b[0;34m'/content/drive/MyDrive/python_deloitte'\u001b[0m\u001b[0;34m)\u001b[0m\u001b[0;34m\u001b[0m\u001b[0;34m\u001b[0m\u001b[0m\n\u001b[0m",
            "\u001b[0;31mFileNotFoundError\u001b[0m: [Errno 2] No such file or directory: '/content/drive/MyDrive/python_deloitte'"
          ]
        }
      ],
      "source": [
        "import os\n",
        "import sys\n",
        "#list the current working dir\n",
        "os.getcwd()\n",
        "#change the current working dir\n",
        "os.chdir('/content/drive/MyDrive/python_deloitte')\n"
      ]
    },
    {
      "cell_type": "markdown",
      "metadata": {
        "id": "E0xKoXwrr0_v"
      },
      "source": [
        "## NumPy is huge!\n",
        "* Development of NumPy started in the mid-90s\n",
        "* See the Wikipedia article on [NumPy's history](https://en.wikipedia.org/wiki/NumPy#History) for details\n"
      ]
    },
    {
      "cell_type": "markdown",
      "metadata": {
        "id": "vIH5FI_0r0_w"
      },
      "source": [
        "## About *ndarray*\n",
        "* NumPy provides the class *ndarray*\n",
        "* This contain single dimensional and multidimensional arrays\n",
        "## *ndarray*s vs. *list*s and *array.array*s\n",
        "* Compared to *list*s, *ndarray*s are:\n",
        "  * more space efficient\n",
        "  * less flexible\n",
        "    * *list*s can hold heterogeneous data\n",
        "  * more performant\n",
        "  * able to be used to solve the same type of problems\n",
        "    * *list*s and *ndarray*s can hold data in multidimensions\n",
        "\n",
        "* Compared to *array.array*s, *ndarray*s are:\n",
        "  * similar in space efficiency\n",
        "  * identical in requiring data to be homogeneous\n",
        "  * similar in their run-time performance\n",
        "  * able to be used with more general problems\n",
        "    * *array.array*s can hold data in only one dimension"
      ]
    },
    {
      "cell_type": "code",
      "execution_count": null,
      "metadata": {
        "id": "uR0aCxjlr0_2"
      },
      "outputs": [],
      "source": [
        "dir(np.ndarray)"
      ]
    },
    {
      "cell_type": "markdown",
      "metadata": {
        "id": "cliq5eoHr0_5"
      },
      "source": [
        "## What can be done with Arrays?\n",
        "* Arrays can be:\n",
        "  * Created\n",
        "  * Manipulated (Joining, Spliting, Shaping, etc.)\n",
        "  * Accessed one element at a time\n",
        "  * Accessed via array slices\n",
        "  * Reshaped\n",
        "  * Split\n",
        "  * Concatenated"
      ]
    },
    {
      "cell_type": "markdown",
      "metadata": {
        "id": "25S7sKIUxBZs"
      },
      "source": [
        "# Creating Arrays"
      ]
    },
    {
      "cell_type": "markdown",
      "metadata": {
        "id": "MXEp38knxBZv"
      },
      "source": [
        "## Using the *array* Function to Create *ndarrays*\n",
        "* Although it is possible to create an *ndarray* instance using \\_\\_new\\_\\_(), it is not the recommended approach\n",
        "* The factory methods *array*, *zeros*, *ones*, and *empty* are preferred\n",
        "* The *array* factory method is discussed here\n",
        "\n",
        "### Do Now!\n",
        "* Import numpy\n",
        "* View the doc string of the numpy array function"
      ]
    },
    {
      "cell_type": "code",
      "execution_count": null,
      "metadata": {
        "id": "3F0Wt8T2xBZx"
      },
      "outputs": [],
      "source": [
        "import numpy as np"
      ]
    },
    {
      "cell_type": "code",
      "execution_count": null,
      "metadata": {
        "id": "KVMSnFHAxBZ2"
      },
      "outputs": [],
      "source": [
        "help(np.array)"
      ]
    },
    {
      "cell_type": "markdown",
      "metadata": {
        "id": "W_91XpxepVYi"
      },
      "source": [
        "## The array function will copy the source collection into a numpy array object and automatically determine the data type"
      ]
    },
    {
      "cell_type": "code",
      "execution_count": null,
      "metadata": {
        "id": "NUe2J_wSxBai"
      },
      "outputs": [],
      "source": [
        "data1 = [1, 2, 3, 4]\n",
        "array1 = np.array(data1)\n",
        "print(data1)\n",
        "print(array1)\n",
        "print(type(array1))\n",
        "print(array1.dtype)\n"
      ]
    },
    {
      "cell_type": "markdown",
      "metadata": {
        "id": "SJwRDOgLpVYi"
      },
      "source": [
        "## Since there is a single float in this collection it determines that is the most appropriate data type for the numpy array"
      ]
    },
    {
      "cell_type": "code",
      "execution_count": null,
      "metadata": {
        "id": "w-g5lH5LpVYi"
      },
      "outputs": [],
      "source": [
        "data2 = [1.0, 2, 3, 4]\n",
        "array2 = np.array(data2)\n",
        "print(array2)\n",
        "print(array2.dtype)\n"
      ]
    },
    {
      "cell_type": "markdown",
      "metadata": {
        "id": "6dU_5gcGpVYi"
      },
      "source": [
        "## You can specify the dtype parameter to force a preferred data type"
      ]
    },
    {
      "cell_type": "code",
      "execution_count": null,
      "metadata": {
        "id": "JQwSq986pVYi"
      },
      "outputs": [],
      "source": [
        "dir(np)"
      ]
    },
    {
      "cell_type": "code",
      "execution_count": null,
      "metadata": {
        "id": "0zBWaZEUxBa3"
      },
      "outputs": [],
      "source": [
        "from numpy import int32, float32\n",
        "data3 = [1, 2, 3, 4]\n",
        "array3 = np.array(data3, dtype = 'float128')\n",
        "print(array3)\n",
        "print(array3.dtype)\n",
        "print(array3.shape)\n",
        "print(len(array3))"
      ]
    },
    {
      "cell_type": "markdown",
      "metadata": {
        "id": "4TRakpRrpVYi"
      },
      "source": [
        "## If the collection is a collection of other collections, it will create a multi-dimensional numpy array"
      ]
    },
    {
      "cell_type": "code",
      "execution_count": null,
      "metadata": {
        "id": "Qa-HhvurpVYi"
      },
      "outputs": [],
      "source": [
        "data4 = [[1,2,3,4],[5,6,7,8]]\n",
        "array4 = np.array(data4)\n",
        "print(array4)\n",
        "print(array4.dtype)\n",
        "print(array4.shape, len(array4), array4.size)\n",
        "\n",
        "data40 = [[[1,2,3,4],[5,6,7,8]],\n",
        "          [[10,20,30,40], [50,60,70, 80]]]\n",
        "array40 = np.array(data40)\n",
        "print(array40.shape, array40.size, array40.dtype)\n",
        "print(array40)"
      ]
    },
    {
      "cell_type": "markdown",
      "metadata": {
        "id": "D2dTCLwOxBbJ"
      },
      "source": [
        "## Summary of useful *ndarray* attributes\n",
        "* For convenience, here a list of *ndarray* attributes\n",
        "* Given x = np.ones( (2,3,4,5), dtype='float128')\n",
        "   * ndim, the number of dimensions; e.g., 4\n",
        "   * shape, the size of each dimension; e.g., (2,3,4,5)\n",
        "   * dtype, the data type of each element; e.g., np.float128\n",
        "   * itemsize, the size of each element\n",
        "        * Determined by the dtype; e.g., 16 bytes\n",
        "   * size, the total number of elements in the array\n",
        "        * Determined by the product of the shape sizes; e.g., 2 \\* 3 \\* 4 \\* 5 = 120\n",
        "   * nbytes, the total size of the array\n",
        "        * Determine by the product of size and itemsize; e.g., 120 * 16 = 1920\n",
        "   * strides, the number of bytes traversed in order to move from element to element in one dimension or across dimensions"
      ]
    },
    {
      "cell_type": "code",
      "execution_count": null,
      "metadata": {
        "id": "A-HE65hKpVYi"
      },
      "outputs": [],
      "source": [
        "#np.array(range(10))\n",
        "np.arange(10)"
      ]
    },
    {
      "cell_type": "markdown",
      "metadata": {
        "id": "UfZFSY6_xBbL"
      },
      "source": [
        "## Using the *zeros* Function to Create *ndarrays*\n",
        "* The *zeros* function, as its name suggest, creates an *ndarray* containing all zeros\n",
        "* Unlike the *array* function, *zeros* doesn't take source data\n",
        "* *zeros* includes a *shape* parameter for specifying the dimensions of the created *ndarray*\n"
      ]
    },
    {
      "cell_type": "code",
      "execution_count": null,
      "metadata": {
        "id": "u0D6qN0qxBbN"
      },
      "outputs": [],
      "source": [
        "help(np.zeros)"
      ]
    },
    {
      "cell_type": "code",
      "execution_count": null,
      "metadata": {
        "id": "p0B9baW-pVYi"
      },
      "outputs": [],
      "source": [
        "z1 = np.zeros(4, dtype = int)\n",
        "o1 = np.ones((2,4), dtype = int)\n",
        "e1 = np.empty((2,4))\n",
        "\n",
        "print(z1, z1.shape, z1.dtype)\n",
        "print(o1, o1.shape, o1.dtype)\n",
        "print(e1, e1.shape, e1.dtype)\n",
        "\n",
        "z1[0] = 10\n",
        "z1[-1] = 20\n",
        "z1[1:3] = 30\n",
        "z1[:] = 40\n",
        "print(z1)\n",
        "\n",
        "e1[:] = -1\n",
        "print(e1)\n",
        "\n",
        "e1[0:2] = -2\n",
        "print(e1)"
      ]
    },
    {
      "cell_type": "markdown",
      "metadata": {
        "id": "6kqBToTqxBbQ"
      },
      "source": [
        "## LAB 1: ##\n",
        "#### 1.\tDefine an ndarray containing the integer numbers 0 to 9.\n",
        "#### 2.\tPrint the type of the array to the console.\n",
        "#### 3.\tPrint the following properties of the array:\n",
        "    a.\tndim\n",
        "    b.\tshape\n",
        "    c.\tsize\n",
        "    \n",
        "#### 4.\tDefine a 3 x 3 NumPy array containing all 1s of integer type and display it to the console.\n",
        "#### 5.\tPrint the three properties of Step 3 on the array defined in Step 4.\n",
        "\n",
        "<br>\n",
        "\n",
        "<details><summary>Click for <b>code</b></summary>\n",
        "<p>\n",
        "\n",
        "```python\n",
        "import numpy as np\n",
        "a1 = np.arange(10)\n",
        "print(a1)\n",
        "print(a1.dtype, a1.ndim, a1.shape, a1.size)\n",
        "\n",
        "a2 = np.ones((3,3), dtype='int32')\n",
        "print(a2)\n",
        "print(a2.dtype, a2.ndim, a2.shape, a2.size)\n",
        "\n",
        "```\n",
        "</p>\n",
        "</details>"
      ]
    },
    {
      "cell_type": "code",
      "execution_count": null,
      "metadata": {
        "id": "FknX3mM_pVYi"
      },
      "outputs": [],
      "source": [
        "import numpy as np\n",
        "a1 = np.arange(1, 11, 2)\n",
        "print(a1)\n",
        "print(a1.dtype, a1.ndim, a1.shape, a1.size)\n",
        "\n",
        "a2 = np.ones((3,3), dtype='int32')\n",
        "print(a2)\n",
        "print(a2.dtype, a2.ndim, a2.shape, a2.size)\n"
      ]
    },
    {
      "cell_type": "markdown",
      "metadata": {
        "id": "6JWtmVu7pVYi"
      },
      "source": [
        "## Instead of using the python range function and converting it into a numpy array, you could directly create a numpy array using the arange function"
      ]
    },
    {
      "cell_type": "code",
      "execution_count": null,
      "metadata": {
        "id": "zPBXte8zxBbh"
      },
      "outputs": [],
      "source": [
        "help(np.arange)"
      ]
    },
    {
      "cell_type": "code",
      "execution_count": null,
      "metadata": {
        "id": "VXgJu2laxBbm"
      },
      "outputs": [],
      "source": [
        "print (\"arange array = \", np.arange(5, 25, 4))"
      ]
    },
    {
      "cell_type": "markdown",
      "metadata": {
        "id": "23oMPBkdxBbw"
      },
      "source": [
        "### *np.linspace*\n",
        "* View the doc string for *np.linspace*\n",
        "* Print an array of 50 numbers spaced over the interval 1 to 25"
      ]
    },
    {
      "cell_type": "code",
      "execution_count": null,
      "metadata": {
        "id": "fcyxk6S6xBbz"
      },
      "outputs": [],
      "source": [
        "help(np.linspace)"
      ]
    },
    {
      "cell_type": "code",
      "execution_count": null,
      "metadata": {
        "id": "xN6COUyYxBb2"
      },
      "outputs": [],
      "source": [
        "print (\"Evenly spaced array = \", np.linspace(1,10, 101))\n",
        "x = np.linspace(1,25)\n",
        "print(type(x), x.dtype, len(x), x.size, x.shape)"
      ]
    },
    {
      "cell_type": "markdown",
      "metadata": {
        "id": "YecH6IZHpVYm"
      },
      "source": [
        "## You can add a simple scalar value to an array and it will have the effect of adding it to each elements\n",
        "### Note the difference if you do a multiply operation to a python list instead"
      ]
    },
    {
      "cell_type": "code",
      "execution_count": null,
      "metadata": {
        "id": "KPxLVxTypVYm"
      },
      "outputs": [],
      "source": [
        "array1 = np.array([[1,2,3],[4,5,6]])\n",
        "print(dir(array1))\n",
        "print(dir(list))\n",
        "print(array1 + 10)\n",
        "\n",
        "print(array1 ** 2)\n",
        "\n",
        "print([1, 2, 3] * 10)"
      ]
    },
    {
      "cell_type": "markdown",
      "metadata": {
        "id": "7d15LDZVpVYm"
      },
      "source": [
        "## Arrays of compatible shapes can also be operated on"
      ]
    },
    {
      "cell_type": "code",
      "execution_count": null,
      "metadata": {
        "id": "RO9yGgfgpVYm",
        "scrolled": true
      },
      "outputs": [],
      "source": [
        "print(array1)\n",
        "# print(array1 + array1)\n",
        "# print(array1 * array1)\n",
        "\n",
        "array2 = np.array([10, 20, 30])\n",
        "print(array2.shape)\n",
        "print(array1 * array2)\n",
        "\n",
        "# This is the wrong shape\n",
        "# array3 = np.array([10, 20])\n",
        "# print(array1 * array3)\n",
        "\n",
        "array4 = np.array([[10], [20]])\n",
        "print(array4.shape)\n",
        "print(array1 * array4)\n"
      ]
    },
    {
      "cell_type": "markdown",
      "metadata": {
        "id": "gyhJzmVapVYm"
      },
      "source": [
        "## Slicing is similar to how it behaves in a python collection with a few twists"
      ]
    },
    {
      "cell_type": "code",
      "execution_count": null,
      "metadata": {
        "id": "5eOMDiJPpVYm"
      },
      "outputs": [],
      "source": [
        "array1 = np.arange(12)\n",
        "print(array1)\n",
        "print(array1[2])\n",
        "print(array1[2:5])\n",
        "array1[2:5] = 99\n",
        "print(array1)"
      ]
    },
    {
      "cell_type": "markdown",
      "metadata": {
        "id": "ceFqNR0OpVYm"
      },
      "source": [
        "## When you have a multi-dimensional array it can start to be a bit different"
      ]
    },
    {
      "cell_type": "code",
      "execution_count": null,
      "metadata": {
        "id": "HQrF4DrvpVYm"
      },
      "outputs": [],
      "source": [
        "array2d = np.array([[1,2],[3,4],[5,6]])\n",
        "print(array2d)\n",
        "# print(array2d[1], type(array2d[1]))      # returns the entire second element --> [3,4]\n",
        "# print(array2d[1][0])   # returns the second elements then takes the first element of that\n",
        "# print(array2d[1,0])    # returns the element at second row first column\n",
        "print(array2d[0:2])\n",
        "print(array2d[0:2][0]) # returns the first two elements, then the first element of that\n",
        "print(array2d[0:2,1])  # returns the slice of the first two rows and the first column of each of those rows\n",
        "\n",
        "array2d = np.array([[1,2,10],[3,4,20],[5,6,30]])\n",
        "print(array2d[:,-2:])\n"
      ]
    },
    {
      "cell_type": "markdown",
      "metadata": {
        "id": "VM7d3oTTpVYm"
      },
      "source": [
        "## You can reshape arrays from one to two dimensions and vice versa so long as the dimensions make sense for the number of elements in the array"
      ]
    },
    {
      "cell_type": "code",
      "execution_count": null,
      "metadata": {
        "id": "K1SX53AmpVYm"
      },
      "outputs": [],
      "source": [
        "array1 = np.arange(20).reshape((4,5))\n",
        "print(array1)\n",
        "array2 = array1.reshape(20)\n",
        "print(array2)\n",
        "array3 = array1.reshape(2,10)\n",
        "print(array3)\n",
        "print(array1.size)\n",
        "\n",
        "\n",
        "print(array1.reshape(array1.size))"
      ]
    },
    {
      "cell_type": "code",
      "execution_count": null,
      "metadata": {
        "id": "Kj8POagdpVYm"
      },
      "outputs": [],
      "source": [
        "#print('abcdef'[::-1])\n",
        "\n",
        "print(array1)\n",
        "#print(array1[:,:])\n",
        "print(array1[:,::-1])\n",
        "print(array1[:,:3])\n",
        "\n",
        "print(array1[:,::-1][:,:3])\n"
      ]
    },
    {
      "cell_type": "markdown",
      "metadata": {
        "id": "EOZDcrHupVYm"
      },
      "source": [
        "## You can flatten an array to one dimension with either ravel or flatten. Ravel only makes a copy if necessary whereas flatten always makes a copy"
      ]
    },
    {
      "cell_type": "code",
      "execution_count": null,
      "metadata": {
        "id": "SScVd9E9pVYm"
      },
      "outputs": [],
      "source": [
        "help(array1.reshape)"
      ]
    },
    {
      "cell_type": "code",
      "execution_count": null,
      "metadata": {
        "id": "H4HCTeyOpVYm"
      },
      "outputs": [],
      "source": [
        "array3 = array1.ravel()\n",
        "print(array3)\n",
        "array4 = array1.flatten()\n",
        "print(array4)"
      ]
    },
    {
      "cell_type": "markdown",
      "metadata": {
        "id": "In3hyKHFpVYm"
      },
      "source": [
        "## Transposing is the process of flipping an array 90 degrees and is easy to do in numpy"
      ]
    },
    {
      "cell_type": "code",
      "execution_count": null,
      "metadata": {
        "id": "6KHAXYHZpVYm"
      },
      "outputs": [],
      "source": [
        "print(array1)\n",
        "print(array1.shape)\n",
        "print(array1.T)\n",
        "print(array1.T.shape)"
      ]
    },
    {
      "cell_type": "code",
      "execution_count": null,
      "metadata": {
        "id": "8elhWw8lpVYm"
      },
      "outputs": [],
      "source": [
        "dir(array1)"
      ]
    },
    {
      "cell_type": "code",
      "execution_count": null,
      "metadata": {
        "id": "k-mwpw_0pVYm"
      },
      "outputs": [],
      "source": [
        "help(array1.sum)"
      ]
    },
    {
      "cell_type": "code",
      "execution_count": null,
      "metadata": {
        "id": "f7kRjDaFpVYm"
      },
      "outputs": [],
      "source": [
        "print(array1)\n",
        "# print(array1.sum(), array1.mean(), array1.max())\n",
        "# print(array1.cumsum())\n",
        "# print(np.sum(array1))\n",
        "print(array1.sum(axis=0)) # column sum\n",
        "print(array1.sum(axis=1)) # row sum\n",
        "print(array1.sum(axis=None))\n"
      ]
    },
    {
      "cell_type": "markdown",
      "metadata": {
        "id": "0NhVal0WpVYm"
      },
      "source": [
        "## LAB 2: ##\n",
        "#### 1.\tDefine a 3 x 3 array with the integers 1 through 9 named array1.\n",
        "#### 2.\tDefine a second 3 x 3 array with the number 2 in each cell named array2.\n",
        "#### 3.\tNow, perform the following operations using the two arrays:\n",
        "    a.\tarray1+array2\n",
        "    b.\tarray1-array2\n",
        "    c.\tarray1/array2\n",
        "    d.\tarray1*5\n",
        "#### 4.\tPrint elements 4 to 6 of array 1 using a slice operation.\n",
        "#### 5.\tCreate a new single-dimensioned array named array3 with the numbers 0 through 19 in it.\n",
        "#### 6.\tTake a slice of elements 5 to 15 of array 3 and assign the slice to a variable named aslice and print the variable.\n",
        "#### 7.\tModify the contents of the first and last elements of the slice by writing the value 99 into these elements.\n",
        "#### 8.\tPrint the contents of the slice aslice and the array array3. Are the contents what you expect of both arrays?\n",
        "<br>\n",
        "<details><summary>Click for <b>hint</b></summary>\n",
        "<p>\n",
        "Use empty to create an array and set all values to 2 using a slice syntax. Make sure to use integers data types.\n",
        "<br>\n",
        "To set the elements from the right of a slice use negative numbers. Don't forget the index starts at zero on the left.\n",
        "<br>\n",
        "<br>\n",
        "</p>\n",
        "</details>\n",
        "\n",
        "\n",
        "<details><summary>Click for <b>code</b></summary>\n",
        "<p>\n",
        "\n",
        "```python\n",
        "array1 = np.arange(1, 10).reshape((3,3))\n",
        "print(array1)\n",
        "array2 = np.empty((3,3), dtype='int32')\n",
        "array2[:] = 2\n",
        "print(array2)\n",
        "\n",
        "print(array1 + array2)\n",
        "print(array1 - array2)\n",
        "print(array1 / array2)\n",
        "print(array1 + 5)\n",
        "\n",
        "print(array1.reshape((9,))[4:6])\n",
        "\n",
        "array3 = np.arange(0, 20)\n",
        "aslice = array3[5:15]\n",
        "print(aslice)\n",
        "aslice[0] = 99\n",
        "aslice[-1] = 99\n",
        "print(aslice)\n",
        "print(array3)\n",
        "```\n",
        "</p>\n",
        "</details>"
      ]
    },
    {
      "cell_type": "code",
      "execution_count": null,
      "metadata": {
        "id": "4EpQ13ELpVYm"
      },
      "outputs": [],
      "source": [
        "array1 = np.arange(1, 10, dtype = int).reshape(3,3)\n",
        "print(array1)\n",
        "array2 = np.empty((3,3), dtype='int32')\n",
        "array2[:] = 2\n",
        "print(array2)\n",
        "\n",
        "print(array1 + array2)\n",
        "print(array1 - array2)\n",
        "print(array1 / array2)\n",
        "print(array1 + 5)\n",
        "\n",
        "print(array1.reshape((9,))[4:7])\n",
        "\n",
        "array3 = np.arange(0, 20)\n",
        "aslice = array3[5:15]\n",
        "print(aslice)\n",
        "aslice[0] = 99\n",
        "aslice[-1] = 99\n",
        "print(aslice)\n",
        "print(array3)"
      ]
    },
    {
      "cell_type": "markdown",
      "metadata": {
        "id": "lAFl_ggIpVYn"
      },
      "source": [
        "## You can read and write from files into numpy arrays"
      ]
    },
    {
      "cell_type": "code",
      "execution_count": null,
      "metadata": {
        "id": "Y4mLTBWfpVYn"
      },
      "outputs": [],
      "source": [
        "array1 = np.arange(10)\n",
        "np.save('array1.npy', array1)\n",
        "array2 = np.load('array1.npy')\n",
        "print(array2)\n",
        "! cat array1.npy"
      ]
    },
    {
      "cell_type": "markdown",
      "metadata": {
        "id": "PnhJST2BpVYn"
      },
      "source": [
        "## File archives allow you to store multiple numpy arrays into one file. It's sort of like a saved dictionary"
      ]
    },
    {
      "cell_type": "code",
      "execution_count": null,
      "metadata": {
        "id": "kSP_IEeRpVYn"
      },
      "outputs": [],
      "source": [
        "array1 = np.arange(10)\n",
        "array2 = 2 * array1\n",
        "np.savez('array_archive.npz', data_set_1=array1, data_set_2=array2)\n",
        "archive = np.load('array_archive.npz')\n",
        "print(archive['data_set_1'])\n",
        "print(archive['data_set_2'])"
      ]
    },
    {
      "cell_type": "markdown",
      "metadata": {
        "id": "7AD2R-CEpVYn"
      },
      "source": [
        "## If you want to read or write from plain text files instead of the numpy serialized file format, there is another set of methods for that"
      ]
    },
    {
      "cell_type": "code",
      "execution_count": null,
      "metadata": {
        "id": "s-yKQxRbpVYn"
      },
      "outputs": [],
      "source": [
        "array2d = np.array([[1,2,3],[4,5,6]], dtype=int)\n",
        "print(array2d.dtype)\n",
        "np.savetxt('array_data.txt', array2d, delimiter=',', fmt='%5.0f')\n",
        "array2d_from_file = np.loadtxt('array_data.txt', delimiter=',', dtype=int)\n",
        "print(array2d_from_file)\n",
        "! cat array_data.txt"
      ]
    },
    {
      "cell_type": "code",
      "execution_count": null,
      "metadata": {
        "id": "j7NuMyLqpVYn"
      },
      "outputs": [],
      "source": [
        "array2d = np.array([[1,2,3],[4,5,6]], dtype=int)\n",
        "print(array2d.astype(float))\n"
      ]
    },
    {
      "cell_type": "markdown",
      "metadata": {
        "id": "GHZaI1UNpVYn"
      },
      "source": [
        "## With NumPy, multiplying two two-dimensional arrays with * is an element-wise product, not a matrix dot product"
      ]
    },
    {
      "cell_type": "code",
      "execution_count": null,
      "metadata": {
        "id": "G_cPDc_CpVYn"
      },
      "outputs": [],
      "source": [
        "array1 = np.array([[1,2,3],[4,5,6]])\n",
        "array2 = np.array([[1,2,3],[4,5,6]])\n",
        "array_multiply = array1 * array2\n",
        "print(array_multiply)"
      ]
    },
    {
      "cell_type": "markdown",
      "metadata": {
        "id": "EcUTTmn9pVYn"
      },
      "source": [
        "## The dot method will do the cross multiply dot product used in a lot of complex algorithms"
      ]
    },
    {
      "cell_type": "code",
      "execution_count": null,
      "metadata": {
        "id": "_9n7SOtLpVYn"
      },
      "outputs": [],
      "source": [
        "array1 = np.array([[1,2,3],[4,5,6]])\n",
        "array2 = np.array([[1,2],[3,4],[5,6]])\n",
        "print(array1)\n",
        "print(array2)\n",
        "array_dot_product = array1.dot(array2)\n",
        "print(array_dot_product)"
      ]
    },
    {
      "cell_type": "code",
      "execution_count": null,
      "metadata": {
        "id": "W2snBFZ-pVYn"
      },
      "outputs": [],
      "source": [
        "import scipy as sp\n",
        "dir(sp)"
      ]
    },
    {
      "cell_type": "markdown",
      "metadata": {
        "id": "k0HImQUHpVYn"
      },
      "source": [
        "## Examples of random number generation"
      ]
    },
    {
      "cell_type": "code",
      "execution_count": null,
      "metadata": {
        "id": "fHYWsyPIpVYn"
      },
      "outputs": [],
      "source": [
        "from numpy.linalg import inv\n",
        "array1 = np.array([[.1,.2,.3],[.4,.5,.6], [.7,.8,.9]])\n",
        "array2 = inv(array1)\n",
        "\n",
        "print(array1 * array2)"
      ]
    },
    {
      "cell_type": "code",
      "execution_count": null,
      "metadata": {
        "id": "r8PizQZNpVYn"
      },
      "outputs": [],
      "source": [
        "#print (np.random.normal(5, 2, 90)) # mean = 5, std = 2\n",
        "print (np.random.uniform(1, 100, 8).astype(int)) # low = 1, high = 100\n",
        "print (np.random.poisson(10, 10)) # 10 numbers averaging to 10"
      ]
    },
    {
      "cell_type": "markdown",
      "metadata": {
        "id": "oMObzrOKpVYn"
      },
      "source": [
        "## Sometimes a function does not have a dtype parameter directly, but you can use the astype method to cast it to what you want"
      ]
    },
    {
      "cell_type": "code",
      "execution_count": null,
      "metadata": {
        "id": "xNKdCPeJpVYn"
      },
      "outputs": [],
      "source": [
        "array1 = np.random.uniform(1, 100, 8)\n",
        "print(array1)\n",
        "array2 = array1.astype(int)\n",
        "print(array2)"
      ]
    },
    {
      "cell_type": "code",
      "execution_count": null,
      "metadata": {
        "id": "Gk7G83lKpVYn"
      },
      "outputs": [],
      "source": [
        "np.random.seed(1)\n",
        "print(np.random.uniform(1, 100, 8).astype(int))\n",
        "print(np.random.uniform(1, 100, 8).astype(int))"
      ]
    },
    {
      "cell_type": "markdown",
      "metadata": {
        "id": "vFlm48V2pVYn"
      },
      "source": [
        "## Homework: ##\n",
        "#### 1.\tGenerate 20 random integers between 1 and 100\n",
        "#### 2.\tPrint the mean of those numbers\n",
        "#### 3.\tTurn those 20 numbers into a 4 x 5 matrix\n",
        "#### 4. Transpose the matrix into a new variable\n",
        "#### 5.\tFind the dot product of the matrix and its transposed version\n",
        "#### 6. Solve the simultaneous equations:\n",
        "     10x + 20y = 50\n",
        "     30x + 40y = 60\n",
        "<br>\n",
        "<details><summary>Click for <b>hint</b></summary>\n",
        "<p>\n",
        "Look at help on np.random. There are more choices than what we did in the slides.\n",
        "<br>\n",
        "To solve simultaneous equations look at np.linalg.solve\n",
        "<br>\n",
        "<br>\n",
        "</p>\n",
        "</details>\n",
        "\n"
      ]
    },
    {
      "cell_type": "code",
      "execution_count": null,
      "metadata": {
        "id": "wtpG5wespVYn"
      },
      "outputs": [],
      "source": []
    }
  ],
  "metadata": {
    "anaconda-cloud": {},
    "colab": {
      "provenance": []
    },
    "kernelspec": {
      "display_name": "Python 3",
      "language": "python",
      "name": "python3"
    },
    "language_info": {
      "codemirror_mode": {
        "name": "ipython",
        "version": 3
      },
      "file_extension": ".py",
      "mimetype": "text/x-python",
      "name": "python",
      "nbconvert_exporter": "python",
      "pygments_lexer": "ipython3",
      "version": "3.10.13"
    }
  },
  "nbformat": 4,
  "nbformat_minor": 0
}