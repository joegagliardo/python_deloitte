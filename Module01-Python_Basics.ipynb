{
  "cells": [
    {
      "cell_type": "markdown",
      "source": [
        "## Your first Python program"
      ],
      "metadata": {
        "id": "bS0SCZbcfWpU"
      }
    },
    {
      "cell_type": "code",
      "execution_count": null,
      "metadata": {
        "id": "192iJLdt7fOG",
        "colab": {
          "base_uri": "https://localhost:8080/"
        },
        "outputId": "16023e40-0ea3-4bee-b79e-a1cb56be800b"
      },
      "outputs": [
        {
          "output_type": "stream",
          "name": "stdout",
          "text": [
            "Hello World\n"
          ]
        }
      ],
      "source": [
        "print('Hello World')"
      ]
    },
    {
      "cell_type": "markdown",
      "source": [
        "<img src=\"https://raw.githubusercontent.com/joegagliardo/python_deloitte/main/images/Python%20Syntax.png\" width=800 height=500 />\n",
        "\n"
      ],
      "metadata": {
        "id": "8H-Vwqwkfc2g"
      }
    },
    {
      "cell_type": "code",
      "source": [
        "# amount is an int\n",
        "amount = 2\n",
        "# price is a float\n",
        "price = 1.99\n",
        "# name is a str\n",
        "name = 'Widget'\n",
        "# in_stock is a bool\n",
        "in_stock = True\n",
        "\n",
        "# Output the results to the console with a comma separated list of items.\n",
        "# The strings are quoted and the unquoted elements are the names of the variable we just defined\n",
        "print('Amount:', amount, \"Price:\", price, \"\"\"Total:\"\"\", amount * price)\n",
        "\n"
      ],
      "metadata": {
        "colab": {
          "base_uri": "https://localhost:8080/"
        },
        "id": "ccWL_AnbbvGA",
        "outputId": "83078714-d27d-44e7-e423-1daf2c0cc64a"
      },
      "execution_count": 2,
      "outputs": [
        {
          "output_type": "stream",
          "name": "stdout",
          "text": [
            "Amount: 2 Price: 1.99 Total: 3.98\n"
          ]
        }
      ]
    },
    {
      "cell_type": "code",
      "source": [
        "# a better way is to use a formatted string to make it easier\n",
        "# the f at the beginning of the opening quote tells it to use formatting,\n",
        "# the values beween the curly braces inject the values of the variable\n",
        "print(f'Amount: {amount} Price: {price} Total: {amount * price}')"
      ],
      "metadata": {
        "colab": {
          "base_uri": "https://localhost:8080/"
        },
        "id": "fZwRL97acNbk",
        "outputId": "e2bfd36e-c3a8-496f-fe85-005df7357e6e"
      },
      "execution_count": 3,
      "outputs": [
        {
          "output_type": "stream",
          "name": "stdout",
          "text": [
            "Amount: 2 Price: 1.99 Total: 3.98\n"
          ]
        }
      ]
    },
    {
      "cell_type": "code",
      "source": [
        "# if starts a new code block, the colon indicates the next lines should be indented\n",
        "# if the condition is True the first block will run, otherwise it will run the second block after the else\n",
        "if in_stock:\n",
        "  # these are indented to indicate they are within the if block\n",
        "  print(name, 'is in stock')\n",
        "  print('Amount:', amount, \"Price:\", price, \"\"\"Total:\"\"\", amount * price)\n",
        "else:\n",
        "  # this is indented to the same level as the previous block but belongs to the else block\n",
        "  print(name, 'is not in stock')\n",
        "\n"
      ],
      "metadata": {
        "id": "797LgCXQdPAi"
      },
      "execution_count": null,
      "outputs": []
    },
    {
      "cell_type": "markdown",
      "source": [
        "## Try it now: ##\n",
        "#### 1.\tDefine a variable called <font color='blue' face=\"Fixedsys, monospace\" size=\"+1\">name</font> and set it to your name\n",
        "#### 2.\tDefine a variable called <font color='blue' face=\"Fixedsys, monospace\" size=\"+1\">year</font> and set it to the year you were born\n",
        "#### 3.\tDefine a variable called <font color='blue' face=\"Fixedsys, monospace\" size=\"+1\">age</font> and set it equal to 2024 - year\n",
        "#### 4. Use a print statement to say <font color='blue' face=\"Fixedsys, monospace\" size=\"+1\">\"Hello {name} you are {age} years old.\"</font>\n",
        "<br>\n",
        "<details><summary>Click for <b>hint</b></summary>\n",
        "<p>\n",
        "1.\tStart in the code cell below this and type <font color='blue' face=\"Fixedsys, monospace\" size=\"+1\">name = ''</font> and put your name in between the quotes.\n",
        "<br>\n",
        "2.\tOn the next line <font color='blue' face=\"Fixedsys, monospace\" size=\"+1\">year = ''</font> and put your birth year but not in quotes.\n",
        "<br>\n",
        "3.\tOn the next line <font color='blue' face=\"Fixedsys, monospace\" size=\"+1\">age = 2024 - year''</font>.\n",
        "<br>\n",
        "4.\tOn the next line <font color='blue' face=\"Fixedsys, monospace\" size=\"+1\">print(f'') and type what you want to display, but put the variables for name and age inside {}/</font>.\n",
        "<br>\n",
        "<br>\n",
        "</p>\n",
        "</details>\n",
        "\n",
        "<details><summary>Click for <b>code</b></summary>\n",
        "<p>\n",
        "\n",
        "```python\n",
        "name = 'Joey'\n",
        "year = 1965\n",
        "age = 2024 - year\n",
        "print(f'Hello {name}, you are {age} years old.')\n",
        "```\n",
        "</p>\n",
        "</details>"
      ],
      "metadata": {
        "id": "mK3OV5QVelL5"
      }
    },
    {
      "cell_type": "code",
      "source": [],
      "metadata": {
        "colab": {
          "base_uri": "https://localhost:8080/"
        },
        "id": "ZmuiTcY0eYmf",
        "outputId": "5a56165a-fc53-4e31-a4a4-e34144f02bab"
      },
      "execution_count": 4,
      "outputs": [
        {
          "output_type": "stream",
          "name": "stdout",
          "text": [
            "Hello Joey, you are 59 years old.\n"
          ]
        }
      ]
    },
    {
      "cell_type": "code",
      "source": [
        "# Another function that is useful let's use get input from the user\n",
        "name = input('Enter your name? ')\n",
        "print(f'Hello {name}, your name is {len(name)} characters long!')"
      ],
      "metadata": {
        "colab": {
          "base_uri": "https://localhost:8080/"
        },
        "id": "jIurdtj5jX4l",
        "outputId": "fccb75c9-f297-41b0-a24d-17c02fd68ce1"
      },
      "execution_count": 6,
      "outputs": [
        {
          "output_type": "stream",
          "name": "stdout",
          "text": [
            "Enter your name? Joey\n",
            "Hello Joey, your name is 4 characters long!\n"
          ]
        }
      ]
    },
    {
      "cell_type": "code",
      "source": [
        "# Functions are saved blocks of code that have a name, take some parameters and return a value\n",
        "# There are many built-in functions\n",
        "print(len('abcde'))\n",
        "print(abs(-10))\n"
      ],
      "metadata": {
        "id": "ubl5Abkk60KU"
      },
      "execution_count": null,
      "outputs": []
    },
    {
      "cell_type": "code",
      "source": [
        "# Let's try a simple if statement to make it do something different depending on the condition\n",
        "name = input('Enter your name? ')\n",
        "if len(name) <= 4:\n",
        "  print(f'{name}, your name if short.')\n",
        "else:\n",
        "  print(f'{name}, your name is long.')\n"
      ],
      "metadata": {
        "colab": {
          "base_uri": "https://localhost:8080/"
        },
        "id": "PsQecRPyj0TW",
        "outputId": "ab9c3760-e6d4-4b84-f05a-a150bb7882eb"
      },
      "execution_count": 8,
      "outputs": [
        {
          "output_type": "stream",
          "name": "stdout",
          "text": [
            "Enter your name? Robert\n",
            "Robert, your name is long.\n"
          ]
        }
      ]
    },
    {
      "cell_type": "code",
      "source": [
        "# Sometimes we want to repeat a process multiple times, so Python has several ways to do this\n",
        "# In general these are called loops\n",
        "\n",
        "# This while loop will keep running as long as the condition is True.\n",
        "# It's kind of like an if statement that says run the indented block if the condition is True\n",
        "# but then it goes back to the top of the while loop and tries it again and again until the condition is False\n",
        "# Be careful, we need to make sure that we do something inside the loop that eventually makes the condition False\n",
        "# or we end up with an infinte loop\n",
        "\n",
        "x = 10\n",
        "while x > 0:\n",
        "  print(x)\n",
        "  x = x - 1\n",
        "\n"
      ],
      "metadata": {
        "colab": {
          "base_uri": "https://localhost:8080/"
        },
        "id": "P1eO-nAXkagA",
        "outputId": "f3f195fd-1cae-4f47-def2-95ba1fc79084"
      },
      "execution_count": 9,
      "outputs": [
        {
          "output_type": "stream",
          "name": "stdout",
          "text": [
            "10\n",
            "9\n",
            "8\n",
            "7\n",
            "6\n",
            "5\n",
            "4\n",
            "3\n",
            "2\n",
            "1\n"
          ]
        }
      ]
    },
    {
      "cell_type": "code",
      "source": [
        "# Another way to loop through and repeat code is to use the for statement\n",
        "for x in range(10):\n",
        "  print(x)\n"
      ],
      "metadata": {
        "colab": {
          "base_uri": "https://localhost:8080/"
        },
        "id": "VcwWxba8lCV_",
        "outputId": "8bac9639-caab-421f-ceb8-ecbbf9d54c08"
      },
      "execution_count": 10,
      "outputs": [
        {
          "output_type": "stream",
          "name": "stdout",
          "text": [
            "0\n",
            "1\n",
            "2\n",
            "3\n",
            "4\n",
            "5\n",
            "6\n",
            "7\n",
            "8\n",
            "9\n"
          ]
        }
      ]
    },
    {
      "cell_type": "code",
      "source": [
        "# The range function generates values between 0 an 9, it goes up to but does not include 10\n",
        "# This would print values between 1 and 10\n",
        "for x in range(1, 11):\n",
        "  print(x)"
      ],
      "metadata": {
        "colab": {
          "base_uri": "https://localhost:8080/"
        },
        "id": "tWlxNDJrlVnC",
        "outputId": "9eb60cd5-dac8-451b-de36-25c372e0c83e"
      },
      "execution_count": 11,
      "outputs": [
        {
          "output_type": "stream",
          "name": "stdout",
          "text": [
            "1\n",
            "2\n",
            "3\n",
            "4\n",
            "5\n",
            "6\n",
            "7\n",
            "8\n",
            "9\n",
            "10\n"
          ]
        }
      ]
    },
    {
      "cell_type": "code",
      "source": [
        "# The help function can be useful to get details on how functions work\n",
        "help(range)"
      ],
      "metadata": {
        "colab": {
          "base_uri": "https://localhost:8080/"
        },
        "id": "Bj0lkYk-nZwF",
        "outputId": "c2eb4490-c4b9-4e96-e406-29a666480f88"
      },
      "execution_count": 12,
      "outputs": [
        {
          "output_type": "stream",
          "name": "stdout",
          "text": [
            "Help on class range in module builtins:\n",
            "\n",
            "class range(object)\n",
            " |  range(stop) -> range object\n",
            " |  range(start, stop[, step]) -> range object\n",
            " |  \n",
            " |  Return an object that produces a sequence of integers from start (inclusive)\n",
            " |  to stop (exclusive) by step.  range(i, j) produces i, i+1, i+2, ..., j-1.\n",
            " |  start defaults to 0, and stop is omitted!  range(4) produces 0, 1, 2, 3.\n",
            " |  These are exactly the valid indices for a list of 4 elements.\n",
            " |  When step is given, it specifies the increment (or decrement).\n",
            " |  \n",
            " |  Methods defined here:\n",
            " |  \n",
            " |  __bool__(self, /)\n",
            " |      True if self else False\n",
            " |  \n",
            " |  __contains__(self, key, /)\n",
            " |      Return key in self.\n",
            " |  \n",
            " |  __eq__(self, value, /)\n",
            " |      Return self==value.\n",
            " |  \n",
            " |  __ge__(self, value, /)\n",
            " |      Return self>=value.\n",
            " |  \n",
            " |  __getattribute__(self, name, /)\n",
            " |      Return getattr(self, name).\n",
            " |  \n",
            " |  __getitem__(self, key, /)\n",
            " |      Return self[key].\n",
            " |  \n",
            " |  __gt__(self, value, /)\n",
            " |      Return self>value.\n",
            " |  \n",
            " |  __hash__(self, /)\n",
            " |      Return hash(self).\n",
            " |  \n",
            " |  __iter__(self, /)\n",
            " |      Implement iter(self).\n",
            " |  \n",
            " |  __le__(self, value, /)\n",
            " |      Return self<=value.\n",
            " |  \n",
            " |  __len__(self, /)\n",
            " |      Return len(self).\n",
            " |  \n",
            " |  __lt__(self, value, /)\n",
            " |      Return self<value.\n",
            " |  \n",
            " |  __ne__(self, value, /)\n",
            " |      Return self!=value.\n",
            " |  \n",
            " |  __reduce__(...)\n",
            " |      Helper for pickle.\n",
            " |  \n",
            " |  __repr__(self, /)\n",
            " |      Return repr(self).\n",
            " |  \n",
            " |  __reversed__(...)\n",
            " |      Return a reverse iterator.\n",
            " |  \n",
            " |  count(...)\n",
            " |      rangeobject.count(value) -> integer -- return number of occurrences of value\n",
            " |  \n",
            " |  index(...)\n",
            " |      rangeobject.index(value) -> integer -- return index of value.\n",
            " |      Raise ValueError if the value is not present.\n",
            " |  \n",
            " |  ----------------------------------------------------------------------\n",
            " |  Static methods defined here:\n",
            " |  \n",
            " |  __new__(*args, **kwargs) from builtins.type\n",
            " |      Create and return a new object.  See help(type) for accurate signature.\n",
            " |  \n",
            " |  ----------------------------------------------------------------------\n",
            " |  Data descriptors defined here:\n",
            " |  \n",
            " |  start\n",
            " |  \n",
            " |  step\n",
            " |  \n",
            " |  stop\n",
            "\n"
          ]
        }
      ]
    },
    {
      "cell_type": "markdown",
      "source": [
        "## Try it now: ##\n",
        "#### Based on what you learned from getting help on range, can you write a loop that counts down from 5 to 1\n",
        "<br>\n",
        "<details><summary>Click for <b>hint</b></summary>\n",
        "<p>\n",
        "Use -1 for the step parameter by supplying a third value inside the paranthese\n",
        "</p>\n",
        "</details>\n",
        "\n",
        "<details><summary>Click for <b>code</b></summary>\n",
        "<p>\n",
        "\n",
        "```python\n",
        "for x in range(5, 0, -1):\n",
        "  print(x)\n",
        "```\n",
        "</p>\n",
        "</details>"
      ],
      "metadata": {
        "id": "4wwQP-H_n7gD"
      }
    },
    {
      "cell_type": "code",
      "source": [],
      "metadata": {
        "colab": {
          "base_uri": "https://localhost:8080/"
        },
        "id": "M1JuqdmwoW19",
        "outputId": "d28a46d1-cd09-461d-b8f8-c2c6a5705ca7"
      },
      "execution_count": 13,
      "outputs": [
        {
          "output_type": "stream",
          "name": "stdout",
          "text": [
            "5\n",
            "4\n",
            "3\n",
            "2\n",
            "1\n"
          ]
        }
      ]
    },
    {
      "cell_type": "code",
      "source": [
        "# sometimes function are in another module, so to load that module into memory we use the import command\n",
        "import math\n",
        "print(math.sin(90))"
      ],
      "metadata": {
        "id": "ekHqc8uy7vBF",
        "outputId": "60dba45b-f4ea-4918-ec43-671594d6bbc5",
        "colab": {
          "base_uri": "https://localhost:8080/"
        }
      },
      "execution_count": 7,
      "outputs": [
        {
          "output_type": "stream",
          "name": "stdout",
          "text": [
            "0.8939966636005579\n"
          ]
        }
      ]
    },
    {
      "cell_type": "code",
      "source": [
        "# Some functions are built into the variables directly, we usually call these methods\n",
        "name = 'Han Solo'\n",
        "print(name.upper(), name.lower(), name.replace(' ', '-'))"
      ],
      "metadata": {
        "id": "ZBwERLGK9TpF",
        "outputId": "f2aa059a-f174-42e9-fe84-387d7f9f3013",
        "colab": {
          "base_uri": "https://localhost:8080/"
        }
      },
      "execution_count": 9,
      "outputs": [
        {
          "output_type": "stream",
          "name": "stdout",
          "text": [
            "HAN SOLO han solo Han-Solo\n"
          ]
        }
      ]
    },
    {
      "cell_type": "code",
      "source": [
        "# Let's put it all together and make a complete program\n",
        "import random\n",
        "\n",
        "print('Welcome to our little program.')\n",
        "name = input('Enter your name? ')\n",
        "play = True\n",
        "tries = 0\n",
        "correct = 0\n",
        "\n",
        "while play:\n",
        "  number1 = random.randint(1, 10)\n",
        "  number2 = random.randint(1, 10)\n",
        "  correct_answer = number1 + number2\n",
        "  answer = input(f'What is {number1} + {number2} = ')\n",
        "  answer = int(answer)\n",
        "  tries = tries + 1\n",
        "  if answer == correct_answer:\n",
        "    correct += 1\n",
        "    print(f'Good job {name}! You got {correct} out of {tries} right for a score of {100 * correct/tries:.0f}.')\n",
        "  else:\n",
        "    print(f'Sorry {name}. The answer is {correct_answer}. You got {correct} out of {tries} right for a score of {100 * correct/tries:.0f}.')\n",
        "\n",
        "  again = input('Do you want to play again? (Y/N)? ')\n",
        "  if again.upper() == 'N':\n",
        "    play = False\n",
        "\n"
      ],
      "metadata": {
        "colab": {
          "base_uri": "https://localhost:8080/",
          "height": 561
        },
        "id": "883uLTiIosp8",
        "outputId": "f2d97869-d427-4a64-efa0-38029de48746"
      },
      "execution_count": 2,
      "outputs": [
        {
          "output_type": "stream",
          "name": "stdout",
          "text": [
            "Welcome to our little program.\n",
            "Enter your name? Joey\n",
            "What is 7 + 6 = 13\n",
            "Good job Joey! You got 1 out of 1 right for a score of 100.\n",
            "Do you want to play again? (Y/N)? y\n",
            "What is 3 + 3 = 5\n",
            "Sorry Joey. The answer is 6. You got 1 out of 2 right for a score of 50.\n",
            "Do you want to play again? (Y/N)? y\n",
            "What is 8 + 1 = 9\n",
            "Good job Joey! You got 2 out of 3 right for a score of 67.\n"
          ]
        },
        {
          "output_type": "error",
          "ename": "KeyboardInterrupt",
          "evalue": "Interrupted by user",
          "traceback": [
            "\u001b[0;31m---------------------------------------------------------------------------\u001b[0m",
            "\u001b[0;31mKeyboardInterrupt\u001b[0m                         Traceback (most recent call last)",
            "\u001b[0;32m<ipython-input-2-24caac8a6518>\u001b[0m in \u001b[0;36m<cell line: 9>\u001b[0;34m()\u001b[0m\n\u001b[1;32m     19\u001b[0m     \u001b[0mprint\u001b[0m\u001b[0;34m(\u001b[0m\u001b[0;34mf'Sorry {name}. The answer is {number1 + number2}. You got {correct} out of {tries} right for a score of {100 * correct/tries:.0f}.'\u001b[0m\u001b[0;34m)\u001b[0m\u001b[0;34m\u001b[0m\u001b[0;34m\u001b[0m\u001b[0m\n\u001b[1;32m     20\u001b[0m \u001b[0;34m\u001b[0m\u001b[0m\n\u001b[0;32m---> 21\u001b[0;31m   \u001b[0magain\u001b[0m \u001b[0;34m=\u001b[0m \u001b[0minput\u001b[0m\u001b[0;34m(\u001b[0m\u001b[0;34m'Do you want to play again? (Y/N)? '\u001b[0m\u001b[0;34m)\u001b[0m\u001b[0;34m\u001b[0m\u001b[0;34m\u001b[0m\u001b[0m\n\u001b[0m\u001b[1;32m     22\u001b[0m   \u001b[0;32mif\u001b[0m \u001b[0magain\u001b[0m\u001b[0;34m.\u001b[0m\u001b[0mupper\u001b[0m\u001b[0;34m(\u001b[0m\u001b[0;34m)\u001b[0m \u001b[0;34m==\u001b[0m \u001b[0;34m'N'\u001b[0m\u001b[0;34m:\u001b[0m\u001b[0;34m\u001b[0m\u001b[0;34m\u001b[0m\u001b[0m\n\u001b[1;32m     23\u001b[0m     \u001b[0mplay\u001b[0m \u001b[0;34m=\u001b[0m \u001b[0;32mFalse\u001b[0m\u001b[0;34m\u001b[0m\u001b[0;34m\u001b[0m\u001b[0m\n",
            "\u001b[0;32m/usr/local/lib/python3.10/dist-packages/ipykernel/kernelbase.py\u001b[0m in \u001b[0;36mraw_input\u001b[0;34m(self, prompt)\u001b[0m\n\u001b[1;32m    849\u001b[0m                 \u001b[0;34m\"raw_input was called, but this frontend does not support input requests.\"\u001b[0m\u001b[0;34m\u001b[0m\u001b[0;34m\u001b[0m\u001b[0m\n\u001b[1;32m    850\u001b[0m             )\n\u001b[0;32m--> 851\u001b[0;31m         return self._input_request(str(prompt),\n\u001b[0m\u001b[1;32m    852\u001b[0m             \u001b[0mself\u001b[0m\u001b[0;34m.\u001b[0m\u001b[0m_parent_ident\u001b[0m\u001b[0;34m,\u001b[0m\u001b[0;34m\u001b[0m\u001b[0;34m\u001b[0m\u001b[0m\n\u001b[1;32m    853\u001b[0m             \u001b[0mself\u001b[0m\u001b[0;34m.\u001b[0m\u001b[0m_parent_header\u001b[0m\u001b[0;34m,\u001b[0m\u001b[0;34m\u001b[0m\u001b[0;34m\u001b[0m\u001b[0m\n",
            "\u001b[0;32m/usr/local/lib/python3.10/dist-packages/ipykernel/kernelbase.py\u001b[0m in \u001b[0;36m_input_request\u001b[0;34m(self, prompt, ident, parent, password)\u001b[0m\n\u001b[1;32m    893\u001b[0m             \u001b[0;32mexcept\u001b[0m \u001b[0mKeyboardInterrupt\u001b[0m\u001b[0;34m:\u001b[0m\u001b[0;34m\u001b[0m\u001b[0;34m\u001b[0m\u001b[0m\n\u001b[1;32m    894\u001b[0m                 \u001b[0;31m# re-raise KeyboardInterrupt, to truncate traceback\u001b[0m\u001b[0;34m\u001b[0m\u001b[0;34m\u001b[0m\u001b[0m\n\u001b[0;32m--> 895\u001b[0;31m                 \u001b[0;32mraise\u001b[0m \u001b[0mKeyboardInterrupt\u001b[0m\u001b[0;34m(\u001b[0m\u001b[0;34m\"Interrupted by user\"\u001b[0m\u001b[0;34m)\u001b[0m \u001b[0;32mfrom\u001b[0m \u001b[0;32mNone\u001b[0m\u001b[0;34m\u001b[0m\u001b[0;34m\u001b[0m\u001b[0m\n\u001b[0m\u001b[1;32m    896\u001b[0m             \u001b[0;32mexcept\u001b[0m \u001b[0mException\u001b[0m \u001b[0;32mas\u001b[0m \u001b[0me\u001b[0m\u001b[0;34m:\u001b[0m\u001b[0;34m\u001b[0m\u001b[0;34m\u001b[0m\u001b[0m\n\u001b[1;32m    897\u001b[0m                 \u001b[0mself\u001b[0m\u001b[0;34m.\u001b[0m\u001b[0mlog\u001b[0m\u001b[0;34m.\u001b[0m\u001b[0mwarning\u001b[0m\u001b[0;34m(\u001b[0m\u001b[0;34m\"Invalid Message:\"\u001b[0m\u001b[0;34m,\u001b[0m \u001b[0mexc_info\u001b[0m\u001b[0;34m=\u001b[0m\u001b[0;32mTrue\u001b[0m\u001b[0;34m)\u001b[0m\u001b[0;34m\u001b[0m\u001b[0;34m\u001b[0m\u001b[0m\n",
            "\u001b[0;31mKeyboardInterrupt\u001b[0m: Interrupted by user"
          ]
        }
      ]
    },
    {
      "cell_type": "markdown",
      "source": [
        "## Challenge for later: ##\n",
        "#### Make it better by randomly doing an add or subtract.\n",
        "<br>\n",
        "<details><summary>Click for <b>hint</b></summary>\n",
        "<p>\n",
        "Make another variable create a random number between 1 and 2 and if it's 1 do addition or 2 substraction\n",
        "<br>\n",
        "Use an if block to display and calculate the question and answer properly\n",
        "</p>\n",
        "</details>\n",
        "\n",
        "<details><summary>Click for <b>code</b></summary>\n",
        "<p>\n",
        "\n",
        "```python\n",
        "import random\n",
        "\n",
        "print('Welcome to our little program.')\n",
        "name = input('Enter your name? ')\n",
        "play = True\n",
        "tries = 0\n",
        "correct = 0\n",
        "\n",
        "while play:\n",
        "  number1 = random.randint(1, 10)\n",
        "  number2 = random.randint(1, 10)\n",
        "  \n",
        "  operation = random.randint(1,2)\n",
        "  if operation == 1:\n",
        "    correct_answer = number1 + number2\n",
        "    answer = input(f'What is {number1} + {number2} = ')\n",
        "  else:\n",
        "    correct_answer = number1 - number2\n",
        "    answer = input(f'What is {number1} - {number2} = ')\n",
        "\n",
        "  answer = int(answer)\n",
        "  tries = tries + 1\n",
        "  if answer == correct_answer:\n",
        "    correct += 1\n",
        "    print(f'Good job {name}! You got {correct} out of {tries} right for a score of {100 * correct/tries:.0f}.')  \n",
        "  else:\n",
        "    print(f'Sorry {name}. The answer is {correct_answer}. You got {correct} out of {tries} right for a score of {100 * correct/tries:.0f}.')  \n",
        "\n",
        "  again = input('Do you want to play again? (Y/N)? ')\n",
        "  if again.upper() == 'N':\n",
        "    play = False\n",
        "```\n",
        "</p>\n",
        "</details>"
      ],
      "metadata": {
        "id": "hpxj5E-Yq-BU"
      }
    },
    {
      "cell_type": "code",
      "source": [],
      "metadata": {
        "id": "DUvCSo01ryUQ"
      },
      "execution_count": null,
      "outputs": []
    },
    {
      "cell_type": "code",
      "source": [
        "# Sometimes if conditions can get complicated, so we can combine multiple conditions with and/or and use elif\n",
        "\n",
        "x = 10\n",
        "y = 20\n",
        "if x == 10 and y >= 20:\n",
        "  print('One')\n",
        "elif x < 10 or y <= 20:\n",
        "  print('Two')\n",
        "else:\n",
        "  print('Three')\n",
        "\n"
      ],
      "metadata": {
        "id": "a1vlQN0W6JJx"
      },
      "execution_count": null,
      "outputs": []
    },
    {
      "cell_type": "code",
      "source": [
        "# We can write our own functions to save some complex logic into a name block and reuse it\n",
        "def square(x):\n",
        "  return x * x\n",
        "\n",
        "print(square(10))"
      ],
      "metadata": {
        "id": "RjlfcstQ895z",
        "outputId": "17e154b9-2aa7-4930-dbcb-1f749b5fa77a",
        "colab": {
          "base_uri": "https://localhost:8080/"
        }
      },
      "execution_count": 10,
      "outputs": [
        {
          "output_type": "stream",
          "name": "stdout",
          "text": [
            "100\n"
          ]
        }
      ]
    },
    {
      "cell_type": "code",
      "source": [
        "def rectangle(x, y):\n",
        "  return x * y\n",
        "\n",
        "print(rectangle(10, 20))"
      ],
      "metadata": {
        "id": "C-U74ZA4-Lk7"
      },
      "execution_count": null,
      "outputs": []
    },
    {
      "cell_type": "code",
      "source": [
        "def rectangle(x, y = 1):\n",
        "  return x * y\n",
        "\n",
        "print(rectangle(10))"
      ],
      "metadata": {
        "id": "q6uFTd4M-P1I",
        "outputId": "1c093ca1-f392-4f40-95b6-0f442aa81b35",
        "colab": {
          "base_uri": "https://localhost:8080/"
        }
      },
      "execution_count": 12,
      "outputs": [
        {
          "output_type": "stream",
          "name": "stdout",
          "text": [
            "10\n"
          ]
        }
      ]
    },
    {
      "cell_type": "code",
      "source": [
        "print(rectangle(x = 2, y = 3))"
      ],
      "metadata": {
        "id": "Jr7tGpTP-vk4",
        "outputId": "bfdf6127-abc3-44cb-8ae5-cd367fa477f5",
        "colab": {
          "base_uri": "https://localhost:8080/"
        }
      },
      "execution_count": 13,
      "outputs": [
        {
          "output_type": "stream",
          "name": "stdout",
          "text": [
            "6\n"
          ]
        }
      ]
    },
    {
      "cell_type": "markdown",
      "source": [],
      "metadata": {
        "id": "0fz-0sIknsfu"
      }
    },
    {
      "cell_type": "markdown",
      "source": [],
      "metadata": {
        "id": "NrG0iiHsnsxd"
      }
    },
    {
      "cell_type": "markdown",
      "source": [],
      "metadata": {
        "id": "eJoVbhSEns7e"
      }
    },
    {
      "cell_type": "code",
      "source": [],
      "metadata": {
        "id": "XpUgPnHint3-"
      },
      "execution_count": null,
      "outputs": []
    },
    {
      "cell_type": "markdown",
      "metadata": {
        "id": "vFlm48V2pVYn"
      },
      "source": [
        "## Homework: ##\n",
        "#### 1.\tGenerate 20 random integers between 1 and 100\n",
        "#### 2.\tPrint the mean of those numbers\n",
        "#### 3.\tTurn those 20 numbers into a 4 x 5 matrix\n",
        "#### 4. Transpose the matrix into a new variable\n",
        "#### 5.\tFind the dot product of the matrix and its transposed version\n",
        "#### 6. Solve the simultaneous equations:\n",
        "     10x + 20y = 50\n",
        "     30x + 40y = 60\n",
        "<br>\n",
        "<details><summary>Click for <b>hint</b></summary>\n",
        "<p>\n",
        "Look at help on np.random. There are more choices than what we did in the slides.\n",
        "<br>\n",
        "To solve simultaneous equations look at np.linalg.solve\n",
        "<br>\n",
        "<br>\n",
        "</p>\n",
        "</details>\n",
        "\n"
      ]
    },
    {
      "cell_type": "code",
      "execution_count": null,
      "metadata": {
        "id": "wtpG5wespVYn"
      },
      "outputs": [],
      "source": []
    }
  ],
  "metadata": {
    "anaconda-cloud": {},
    "colab": {
      "provenance": []
    },
    "kernelspec": {
      "display_name": "Python 3",
      "language": "python",
      "name": "python3"
    },
    "language_info": {
      "codemirror_mode": {
        "name": "ipython",
        "version": 3
      },
      "file_extension": ".py",
      "mimetype": "text/x-python",
      "name": "python",
      "nbconvert_exporter": "python",
      "pygments_lexer": "ipython3",
      "version": "3.10.13"
    }
  },
  "nbformat": 4,
  "nbformat_minor": 0
}