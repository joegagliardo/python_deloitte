{
  "cells": [
    {
      "cell_type": "markdown",
      "source": [
        "## Your first Python program"
      ],
      "metadata": {
        "id": "bS0SCZbcfWpU"
      }
    },
    {
      "cell_type": "code",
      "execution_count": null,
      "metadata": {
        "id": "192iJLdt7fOG",
        "colab": {
          "base_uri": "https://localhost:8080/"
        },
        "outputId": "16023e40-0ea3-4bee-b79e-a1cb56be800b"
      },
      "outputs": [
        {
          "output_type": "stream",
          "name": "stdout",
          "text": [
            "Hello World\n"
          ]
        }
      ],
      "source": [
        "print('Hello World')"
      ]
    },
    {
      "cell_type": "markdown",
      "source": [
        "<img src=\"https://raw.githubusercontent.com/joegagliardo/python_deloitte/main/images/Python%20Syntax.png\" width=800 height=500 />\n",
        "\n"
      ],
      "metadata": {
        "id": "8H-Vwqwkfc2g"
      }
    },
    {
      "cell_type": "code",
      "source": [
        "# amount is an int\n",
        "amount = 2\n",
        "# price is a float\n",
        "price = 1.99\n",
        "# name is a str\n",
        "name = 'Widget'\n",
        "# in_stock is a bool\n",
        "in_stock = True\n",
        "\n",
        "# Output the results to the console with a comma separated list of items.\n",
        "# The strings are quoted and the unquoted elements are the names of the variable we just defined\n",
        "print('Amount:', amount, \"Price:\", price, \"\"\"Total:\"\"\", amount * price)\n",
        "\n"
      ],
      "metadata": {
        "colab": {
          "base_uri": "https://localhost:8080/"
        },
        "id": "ccWL_AnbbvGA",
        "outputId": "83078714-d27d-44e7-e423-1daf2c0cc64a"
      },
      "execution_count": 2,
      "outputs": [
        {
          "output_type": "stream",
          "name": "stdout",
          "text": [
            "Amount: 2 Price: 1.99 Total: 3.98\n"
          ]
        }
      ]
    },
    {
      "cell_type": "code",
      "source": [
        "# a better way is to use a formatted string to make it easier\n",
        "# the f at the beginning of the opening quote tells it to use formatting,\n",
        "# the values beween the curly braces inject the values of the variable\n",
        "print(f'Amount: {amount} Price: {price} Total: {amount * price}')"
      ],
      "metadata": {
        "id": "fZwRL97acNbk",
        "outputId": "e2bfd36e-c3a8-496f-fe85-005df7357e6e",
        "colab": {
          "base_uri": "https://localhost:8080/"
        }
      },
      "execution_count": 3,
      "outputs": [
        {
          "output_type": "stream",
          "name": "stdout",
          "text": [
            "Amount: 2 Price: 1.99 Total: 3.98\n"
          ]
        }
      ]
    },
    {
      "cell_type": "code",
      "source": [
        "# if starts a new code block, the colon indicates the next lines should be indented\n",
        "# if the condition is True the first block will run, otherwise it will run the second block after the else\n",
        "if in_stock:\n",
        "  # these are indented to indicate they are within the if block\n",
        "  print(name, 'is in stock')\n",
        "  print('Amount:', amount, \"Price:\", price, \"\"\"Total:\"\"\", amount * price)\n",
        "else:\n",
        "  # this is indented to the same level as the previous block but belongs to the else block\n",
        "  print(name, 'is not in stock')\n",
        "\n"
      ],
      "metadata": {
        "id": "797LgCXQdPAi"
      },
      "execution_count": null,
      "outputs": []
    },
    {
      "cell_type": "markdown",
      "source": [
        "## Try it: ##\n",
        "#### 1.\tDefine a variable called <font color='blue' face=\"Fixedsys, monospace\" size=\"+1\">name</font> and set it to your name\n",
        "#### 2.\tDefine a variable called <font color='blue' face=\"Fixedsys, monospace\" size=\"+1\">year</font> and set it to the year you were born\n",
        "#### 3.\tDefine a variable called <font color='blue' face=\"Fixedsys, monospace\" size=\"+1\">age</font> and set it equal to 2024 - year\n",
        "#### 4. Use a print statement to say <font color='blue' face=\"Fixedsys, monospace\" size=\"+1\">\"Hello {name} you are {age} years old.\"</font>\n",
        "<br>\n",
        "<details><summary>Click for <b>hint</b></summary>\n",
        "<p>\n",
        "1.\tStart in the code cell below this and type <font color='blue' face=\"Fixedsys, monospace\" size=\"+1\">name = ''</font> and put your name in between the quotes.\n",
        "<br>\n",
        "2.\tOn the next line <font color='blue' face=\"Fixedsys, monospace\" size=\"+1\">year = ''</font> and put your birth year but not in quotes.\n",
        "<br>\n",
        "3.\tOn the next line <font color='blue' face=\"Fixedsys, monospace\" size=\"+1\">age = 2024 - year''</font>.\n",
        "<br>\n",
        "4.\tOn the next line <font color='blue' face=\"Fixedsys, monospace\" size=\"+1\">print(f'') and type what you want to display, but put the variables for name and age inside {}/</font>.\n",
        "<br>\n",
        "<br>\n",
        "</p>\n",
        "</details>\n",
        "\n",
        "<details><summary>Click for <b>code</b></summary>\n",
        "<p>\n",
        "\n",
        "```python\n",
        "name = 'Joey'\n",
        "year = 1965\n",
        "age = 2024 - year\n",
        "print(f'Hello {name}, you are {age} years old.')\n",
        "```\n",
        "</p>\n",
        "</details>"
      ],
      "metadata": {
        "id": "mK3OV5QVelL5"
      }
    },
    {
      "cell_type": "code",
      "source": [],
      "metadata": {
        "id": "ZmuiTcY0eYmf",
        "outputId": "5a56165a-fc53-4e31-a4a4-e34144f02bab",
        "colab": {
          "base_uri": "https://localhost:8080/"
        }
      },
      "execution_count": 4,
      "outputs": [
        {
          "output_type": "stream",
          "name": "stdout",
          "text": [
            "Hello Joey, you are 59 years old.\n"
          ]
        }
      ]
    },
    {
      "cell_type": "markdown",
      "source": [],
      "metadata": {
        "id": "0fz-0sIknsfu"
      }
    },
    {
      "cell_type": "markdown",
      "source": [],
      "metadata": {
        "id": "NrG0iiHsnsxd"
      }
    },
    {
      "cell_type": "markdown",
      "source": [],
      "metadata": {
        "id": "eJoVbhSEns7e"
      }
    },
    {
      "cell_type": "code",
      "source": [],
      "metadata": {
        "id": "XpUgPnHint3-"
      },
      "execution_count": null,
      "outputs": []
    },
    {
      "cell_type": "markdown",
      "metadata": {
        "id": "vFlm48V2pVYn"
      },
      "source": [
        "## Homework: ##\n",
        "#### 1.\tGenerate 20 random integers between 1 and 100\n",
        "#### 2.\tPrint the mean of those numbers\n",
        "#### 3.\tTurn those 20 numbers into a 4 x 5 matrix\n",
        "#### 4. Transpose the matrix into a new variable\n",
        "#### 5.\tFind the dot product of the matrix and its transposed version\n",
        "#### 6. Solve the simultaneous equations:\n",
        "     10x + 20y = 50\n",
        "     30x + 40y = 60\n",
        "<br>\n",
        "<details><summary>Click for <b>hint</b></summary>\n",
        "<p>\n",
        "Look at help on np.random. There are more choices than what we did in the slides.\n",
        "<br>\n",
        "To solve simultaneous equations look at np.linalg.solve\n",
        "<br>\n",
        "<br>\n",
        "</p>\n",
        "</details>\n",
        "\n"
      ]
    },
    {
      "cell_type": "code",
      "execution_count": null,
      "metadata": {
        "id": "wtpG5wespVYn"
      },
      "outputs": [],
      "source": []
    }
  ],
  "metadata": {
    "anaconda-cloud": {},
    "colab": {
      "provenance": []
    },
    "kernelspec": {
      "display_name": "Python 3",
      "language": "python",
      "name": "python3"
    },
    "language_info": {
      "codemirror_mode": {
        "name": "ipython",
        "version": 3
      },
      "file_extension": ".py",
      "mimetype": "text/x-python",
      "name": "python",
      "nbconvert_exporter": "python",
      "pygments_lexer": "ipython3",
      "version": "3.10.13"
    }
  },
  "nbformat": 4,
  "nbformat_minor": 0
}